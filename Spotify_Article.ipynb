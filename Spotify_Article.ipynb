{
  "nbformat": 4,
  "nbformat_minor": 0,
  "metadata": {
    "colab": {
      "name": "Spotify Article",
      "provenance": [],
      "collapsed_sections": [],
      "authorship_tag": "ABX9TyO3Fd9ZB73/Z8GoIB5ck4vJ"
    },
    "kernelspec": {
      "name": "python3",
      "display_name": "Python 3"
    }
  },
  "cells": [
    {
      "cell_type": "code",
      "metadata": {
        "id": "bqloITs2aCIM",
        "colab_type": "code",
        "colab": {
          "base_uri": "https://localhost:8080/",
          "height": 129
        },
        "outputId": "3d859fbe-8c61-453a-80f9-556c9a21fc16"
      },
      "source": [
        "from google.colab import drive #mounting my google drive\n",
        "drive.mount('/content/gdrive')"
      ],
      "execution_count": 2,
      "outputs": [
        {
          "output_type": "stream",
          "text": [
            "Go to this URL in a browser: https://accounts.google.com/o/oauth2/auth?client_id=947318989803-6bn6qk8qdgf4n4g3pfee6491hc0brc4i.apps.googleusercontent.com&redirect_uri=urn%3aietf%3awg%3aoauth%3a2.0%3aoob&response_type=code&scope=email%20https%3a%2f%2fwww.googleapis.com%2fauth%2fdocs.test%20https%3a%2f%2fwww.googleapis.com%2fauth%2fdrive%20https%3a%2f%2fwww.googleapis.com%2fauth%2fdrive.photos.readonly%20https%3a%2f%2fwww.googleapis.com%2fauth%2fpeopleapi.readonly\n",
            "\n",
            "Enter your authorization code:\n",
            "··········\n",
            "Mounted at /content/gdrive\n"
          ],
          "name": "stdout"
        }
      ]
    },
    {
      "cell_type": "code",
      "metadata": {
        "id": "1UhoJuNDaLKo",
        "colab_type": "code",
        "colab": {
          "base_uri": "https://localhost:8080/",
          "height": 54
        },
        "outputId": "3837dc91-0625-4726-ddf8-e3dd1aeeef47"
      },
      "source": [
        "#importing necessary packages and libraries needed\n",
        "\n",
        "import pandas as pd #for preprocessing and analysis\n",
        "from pandas import DataFrame as df\n",
        "import time #tracking the speed of loading dataset and imported libraries\n",
        "import numpy as np #for preprocessing and analysis/statistical calculations\n",
        "import seaborn as sns \n",
        "import matplotlib.pyplot as plt \n",
        "%matplotlib inline \n",
        "plt.show()"
      ],
      "execution_count": 3,
      "outputs": [
        {
          "output_type": "stream",
          "text": [
            "/usr/local/lib/python3.6/dist-packages/statsmodels/tools/_testing.py:19: FutureWarning: pandas.util.testing is deprecated. Use the functions in the public API at pandas.testing instead.\n",
            "  import pandas.util.testing as tm\n"
          ],
          "name": "stderr"
        }
      ]
    },
    {
      "cell_type": "code",
      "metadata": {
        "id": "FZ6WYMNeazHc",
        "colab_type": "code",
        "colab": {}
      },
      "source": [
        "#importing the dataset from google drive\n",
        "\n",
        "spotify = pd.read_csv('gdrive/My Drive/Medium Projects/Spotify Data/data.csv')\n",
        "genre = pd.read_csv('gdrive/My Drive/Medium Projects/Spotify Data/data_by_genres.csv')\n",
        "super_genre = pd.read_json('gdrive/My Drive/Medium Projects/Spotify Data/super_genres.json')\n",
        "artist = pd.read_csv('gdrive/My Drive/Medium Projects/Spotify Data/data_by_artist.csv')"
      ],
      "execution_count": 18,
      "outputs": []
    },
    {
      "cell_type": "code",
      "metadata": {
        "id": "MA08-lQWbpc7",
        "colab_type": "code",
        "colab": {
          "base_uri": "https://localhost:8080/",
          "height": 415
        },
        "outputId": "edef4611-2357-4e15-cf7d-214114c3f2db"
      },
      "source": [
        "spotify.head()"
      ],
      "execution_count": 19,
      "outputs": [
        {
          "output_type": "execute_result",
          "data": {
            "text/html": [
              "<div>\n",
              "<style scoped>\n",
              "    .dataframe tbody tr th:only-of-type {\n",
              "        vertical-align: middle;\n",
              "    }\n",
              "\n",
              "    .dataframe tbody tr th {\n",
              "        vertical-align: top;\n",
              "    }\n",
              "\n",
              "    .dataframe thead th {\n",
              "        text-align: right;\n",
              "    }\n",
              "</style>\n",
              "<table border=\"1\" class=\"dataframe\">\n",
              "  <thead>\n",
              "    <tr style=\"text-align: right;\">\n",
              "      <th></th>\n",
              "      <th>Unnamed: 0</th>\n",
              "      <th>acousticness</th>\n",
              "      <th>artists</th>\n",
              "      <th>danceability</th>\n",
              "      <th>duration_ms</th>\n",
              "      <th>energy</th>\n",
              "      <th>explicit</th>\n",
              "      <th>id</th>\n",
              "      <th>instrumentalness</th>\n",
              "      <th>key</th>\n",
              "      <th>liveness</th>\n",
              "      <th>loudness</th>\n",
              "      <th>mode</th>\n",
              "      <th>name</th>\n",
              "      <th>popularity</th>\n",
              "      <th>release_date</th>\n",
              "      <th>speechiness</th>\n",
              "      <th>tempo</th>\n",
              "      <th>valence</th>\n",
              "      <th>year</th>\n",
              "    </tr>\n",
              "  </thead>\n",
              "  <tbody>\n",
              "    <tr>\n",
              "      <th>0</th>\n",
              "      <td>0</td>\n",
              "      <td>0.732</td>\n",
              "      <td>['Dennis Day']</td>\n",
              "      <td>0.819</td>\n",
              "      <td>180533</td>\n",
              "      <td>0.341</td>\n",
              "      <td>0</td>\n",
              "      <td>7xPhfUan2yNtyFG0cUWkt8</td>\n",
              "      <td>0.000000</td>\n",
              "      <td>7</td>\n",
              "      <td>0.160</td>\n",
              "      <td>-12.441</td>\n",
              "      <td>1</td>\n",
              "      <td>Clancy Lowered the Boom</td>\n",
              "      <td>8</td>\n",
              "      <td>1921</td>\n",
              "      <td>0.4150</td>\n",
              "      <td>60.936</td>\n",
              "      <td>0.9630</td>\n",
              "      <td>1921</td>\n",
              "    </tr>\n",
              "    <tr>\n",
              "      <th>1</th>\n",
              "      <td>1</td>\n",
              "      <td>0.982</td>\n",
              "      <td>['Sergei Rachmaninoff', 'James Levine', 'Berli...</td>\n",
              "      <td>0.279</td>\n",
              "      <td>831667</td>\n",
              "      <td>0.211</td>\n",
              "      <td>0</td>\n",
              "      <td>4BJqT0PrAfrxzMOxytFOIz</td>\n",
              "      <td>0.878000</td>\n",
              "      <td>10</td>\n",
              "      <td>0.665</td>\n",
              "      <td>-20.096</td>\n",
              "      <td>1</td>\n",
              "      <td>Piano Concerto No. 3 in D Minor, Op. 30: III. ...</td>\n",
              "      <td>5</td>\n",
              "      <td>1921</td>\n",
              "      <td>0.0366</td>\n",
              "      <td>80.954</td>\n",
              "      <td>0.0594</td>\n",
              "      <td>1921</td>\n",
              "    </tr>\n",
              "    <tr>\n",
              "      <th>2</th>\n",
              "      <td>2</td>\n",
              "      <td>0.996</td>\n",
              "      <td>['John McCormack']</td>\n",
              "      <td>0.518</td>\n",
              "      <td>159507</td>\n",
              "      <td>0.203</td>\n",
              "      <td>0</td>\n",
              "      <td>5uNZnElqOS3W4fRmRYPk4T</td>\n",
              "      <td>0.000000</td>\n",
              "      <td>0</td>\n",
              "      <td>0.115</td>\n",
              "      <td>-10.589</td>\n",
              "      <td>1</td>\n",
              "      <td>The Wearing of the Green</td>\n",
              "      <td>6</td>\n",
              "      <td>1921</td>\n",
              "      <td>0.0615</td>\n",
              "      <td>66.221</td>\n",
              "      <td>0.4060</td>\n",
              "      <td>1921</td>\n",
              "    </tr>\n",
              "    <tr>\n",
              "      <th>3</th>\n",
              "      <td>3</td>\n",
              "      <td>0.982</td>\n",
              "      <td>['Sergei Rachmaninoff', 'James Levine', 'Berli...</td>\n",
              "      <td>0.279</td>\n",
              "      <td>831667</td>\n",
              "      <td>0.211</td>\n",
              "      <td>0</td>\n",
              "      <td>1SCWBjhk5WmXPxhDduD3HM</td>\n",
              "      <td>0.878000</td>\n",
              "      <td>10</td>\n",
              "      <td>0.665</td>\n",
              "      <td>-20.096</td>\n",
              "      <td>1</td>\n",
              "      <td>Piano Concerto No. 3 in D Minor, Op. 30: III. ...</td>\n",
              "      <td>4</td>\n",
              "      <td>1921</td>\n",
              "      <td>0.0366</td>\n",
              "      <td>80.954</td>\n",
              "      <td>0.0594</td>\n",
              "      <td>1921</td>\n",
              "    </tr>\n",
              "    <tr>\n",
              "      <th>4</th>\n",
              "      <td>4</td>\n",
              "      <td>0.957</td>\n",
              "      <td>['Phil Regan']</td>\n",
              "      <td>0.418</td>\n",
              "      <td>166693</td>\n",
              "      <td>0.193</td>\n",
              "      <td>0</td>\n",
              "      <td>4d6HGyGT8e121BsdKmw9v6</td>\n",
              "      <td>0.000002</td>\n",
              "      <td>3</td>\n",
              "      <td>0.229</td>\n",
              "      <td>-10.096</td>\n",
              "      <td>1</td>\n",
              "      <td>When Irish Eyes Are Smiling</td>\n",
              "      <td>4</td>\n",
              "      <td>1921</td>\n",
              "      <td>0.0380</td>\n",
              "      <td>101.665</td>\n",
              "      <td>0.2530</td>\n",
              "      <td>1921</td>\n",
              "    </tr>\n",
              "  </tbody>\n",
              "</table>\n",
              "</div>"
            ],
            "text/plain": [
              "   Unnamed: 0  acousticness  ... valence  year\n",
              "0           0         0.732  ...  0.9630  1921\n",
              "1           1         0.982  ...  0.0594  1921\n",
              "2           2         0.996  ...  0.4060  1921\n",
              "3           3         0.982  ...  0.0594  1921\n",
              "4           4         0.957  ...  0.2530  1921\n",
              "\n",
              "[5 rows x 20 columns]"
            ]
          },
          "metadata": {
            "tags": []
          },
          "execution_count": 19
        }
      ]
    },
    {
      "cell_type": "code",
      "metadata": {
        "id": "6D-oagcnh087",
        "colab_type": "code",
        "colab": {}
      },
      "source": [
        "#dropping the columns that aren't needed\n",
        "spotify.drop(\"Unnamed: 0\",axis=1, inplace=True)"
      ],
      "execution_count": 20,
      "outputs": []
    },
    {
      "cell_type": "code",
      "metadata": {
        "id": "tyDUrJNP6XMc",
        "colab_type": "code",
        "colab": {
          "base_uri": "https://localhost:8080/",
          "height": 498
        },
        "outputId": "c5c9e1f0-36fb-40b4-9b40-f0ebb61ffea2"
      },
      "source": [
        "#quick look at the spotify df\n",
        "\n",
        "spotify.info()"
      ],
      "execution_count": null,
      "outputs": [
        {
          "output_type": "stream",
          "text": [
            "<class 'pandas.core.frame.DataFrame'>\n",
            "RangeIndex: 168592 entries, 0 to 168591\n",
            "Data columns (total 19 columns):\n",
            " #   Column            Non-Null Count   Dtype  \n",
            "---  ------            --------------   -----  \n",
            " 0   acousticness      168592 non-null  float64\n",
            " 1   artists           168592 non-null  object \n",
            " 2   danceability      168592 non-null  float64\n",
            " 3   duration_ms       168592 non-null  int64  \n",
            " 4   energy            168592 non-null  float64\n",
            " 5   explicit          168592 non-null  int64  \n",
            " 6   id                168592 non-null  object \n",
            " 7   instrumentalness  168592 non-null  float64\n",
            " 8   key               168592 non-null  int64  \n",
            " 9   liveness          168592 non-null  float64\n",
            " 10  loudness          168592 non-null  float64\n",
            " 11  mode              168592 non-null  int64  \n",
            " 12  name              168592 non-null  object \n",
            " 13  popularity        168592 non-null  int64  \n",
            " 14  release_date      168592 non-null  object \n",
            " 15  speechiness       168592 non-null  float64\n",
            " 16  tempo             168592 non-null  float64\n",
            " 17  valence           168592 non-null  float64\n",
            " 18  year              168592 non-null  int64  \n",
            "dtypes: float64(9), int64(6), object(4)\n",
            "memory usage: 24.4+ MB\n"
          ],
          "name": "stdout"
        }
      ]
    },
    {
      "cell_type": "code",
      "metadata": {
        "id": "xDeICUIm6XQr",
        "colab_type": "code",
        "colab": {
          "base_uri": "https://localhost:8080/",
          "height": 387
        },
        "outputId": "c37c7f5b-80a8-4d02-d646-2a6085c606b7"
      },
      "source": [
        "#check for columns containing null values in the dataset\n",
        "\n",
        "spotify.isnull().sum()"
      ],
      "execution_count": null,
      "outputs": [
        {
          "output_type": "execute_result",
          "data": {
            "text/plain": [
              "acousticness        0\n",
              "artists             0\n",
              "danceability        0\n",
              "duration_ms         0\n",
              "energy              0\n",
              "explicit            0\n",
              "id                  0\n",
              "instrumentalness    0\n",
              "key                 0\n",
              "liveness            0\n",
              "loudness            0\n",
              "mode                0\n",
              "name                0\n",
              "popularity          0\n",
              "release_date        0\n",
              "speechiness         0\n",
              "tempo               0\n",
              "valence             0\n",
              "year                0\n",
              "dtype: int64"
            ]
          },
          "metadata": {
            "tags": []
          },
          "execution_count": 7
        }
      ]
    },
    {
      "cell_type": "code",
      "metadata": {
        "id": "IPKcbthS6XXh",
        "colab_type": "code",
        "colab": {
          "base_uri": "https://localhost:8080/",
          "height": 300
        },
        "outputId": "5854c6be-8901-4746-d43c-3d96a394a5ed"
      },
      "source": [
        "#quick summary of our spotify df\n",
        "\n",
        "spotify.describe()"
      ],
      "execution_count": null,
      "outputs": [
        {
          "output_type": "execute_result",
          "data": {
            "text/html": [
              "<div>\n",
              "<style scoped>\n",
              "    .dataframe tbody tr th:only-of-type {\n",
              "        vertical-align: middle;\n",
              "    }\n",
              "\n",
              "    .dataframe tbody tr th {\n",
              "        vertical-align: top;\n",
              "    }\n",
              "\n",
              "    .dataframe thead th {\n",
              "        text-align: right;\n",
              "    }\n",
              "</style>\n",
              "<table border=\"1\" class=\"dataframe\">\n",
              "  <thead>\n",
              "    <tr style=\"text-align: right;\">\n",
              "      <th></th>\n",
              "      <th>acousticness</th>\n",
              "      <th>danceability</th>\n",
              "      <th>duration_ms</th>\n",
              "      <th>energy</th>\n",
              "      <th>explicit</th>\n",
              "      <th>instrumentalness</th>\n",
              "      <th>key</th>\n",
              "      <th>liveness</th>\n",
              "      <th>loudness</th>\n",
              "      <th>mode</th>\n",
              "      <th>popularity</th>\n",
              "      <th>speechiness</th>\n",
              "      <th>tempo</th>\n",
              "      <th>valence</th>\n",
              "      <th>year</th>\n",
              "    </tr>\n",
              "  </thead>\n",
              "  <tbody>\n",
              "    <tr>\n",
              "      <th>count</th>\n",
              "      <td>168592.000000</td>\n",
              "      <td>168592.000000</td>\n",
              "      <td>1.685920e+05</td>\n",
              "      <td>168592.000000</td>\n",
              "      <td>168592.000000</td>\n",
              "      <td>168592.000000</td>\n",
              "      <td>168592.000000</td>\n",
              "      <td>168592.000000</td>\n",
              "      <td>168592.000000</td>\n",
              "      <td>168592.000000</td>\n",
              "      <td>168592.000000</td>\n",
              "      <td>168592.000000</td>\n",
              "      <td>168592.000000</td>\n",
              "      <td>168592.000000</td>\n",
              "      <td>168592.000000</td>\n",
              "    </tr>\n",
              "    <tr>\n",
              "      <th>mean</th>\n",
              "      <td>0.501360</td>\n",
              "      <td>0.533648</td>\n",
              "      <td>2.327016e+05</td>\n",
              "      <td>0.488577</td>\n",
              "      <td>0.071516</td>\n",
              "      <td>0.169476</td>\n",
              "      <td>5.196795</td>\n",
              "      <td>0.205151</td>\n",
              "      <td>-11.358180</td>\n",
              "      <td>0.709446</td>\n",
              "      <td>31.626862</td>\n",
              "      <td>0.083616</td>\n",
              "      <td>116.918295</td>\n",
              "      <td>0.528497</td>\n",
              "      <td>1977.457774</td>\n",
              "    </tr>\n",
              "    <tr>\n",
              "      <th>std</th>\n",
              "      <td>0.377993</td>\n",
              "      <td>0.175919</td>\n",
              "      <td>1.223921e+05</td>\n",
              "      <td>0.267346</td>\n",
              "      <td>0.257685</td>\n",
              "      <td>0.315383</td>\n",
              "      <td>3.504587</td>\n",
              "      <td>0.175896</td>\n",
              "      <td>5.670176</td>\n",
              "      <td>0.454019</td>\n",
              "      <td>21.393260</td>\n",
              "      <td>0.119917</td>\n",
              "      <td>30.726527</td>\n",
              "      <td>0.264457</td>\n",
              "      <td>25.406757</td>\n",
              "    </tr>\n",
              "    <tr>\n",
              "      <th>min</th>\n",
              "      <td>0.000000</td>\n",
              "      <td>0.000000</td>\n",
              "      <td>5.108000e+03</td>\n",
              "      <td>0.000000</td>\n",
              "      <td>0.000000</td>\n",
              "      <td>0.000000</td>\n",
              "      <td>0.000000</td>\n",
              "      <td>0.000000</td>\n",
              "      <td>-60.000000</td>\n",
              "      <td>0.000000</td>\n",
              "      <td>0.000000</td>\n",
              "      <td>0.000000</td>\n",
              "      <td>0.000000</td>\n",
              "      <td>0.000000</td>\n",
              "      <td>1921.000000</td>\n",
              "    </tr>\n",
              "    <tr>\n",
              "      <th>25%</th>\n",
              "      <td>0.097800</td>\n",
              "      <td>0.412000</td>\n",
              "      <td>1.721600e+05</td>\n",
              "      <td>0.265000</td>\n",
              "      <td>0.000000</td>\n",
              "      <td>0.000000</td>\n",
              "      <td>2.000000</td>\n",
              "      <td>0.098200</td>\n",
              "      <td>-14.388000</td>\n",
              "      <td>0.000000</td>\n",
              "      <td>13.000000</td>\n",
              "      <td>0.034800</td>\n",
              "      <td>93.500750</td>\n",
              "      <td>0.315000</td>\n",
              "      <td>1957.000000</td>\n",
              "    </tr>\n",
              "    <tr>\n",
              "      <th>50%</th>\n",
              "      <td>0.515000</td>\n",
              "      <td>0.543000</td>\n",
              "      <td>2.091330e+05</td>\n",
              "      <td>0.480000</td>\n",
              "      <td>0.000000</td>\n",
              "      <td>0.000264</td>\n",
              "      <td>5.000000</td>\n",
              "      <td>0.134000</td>\n",
              "      <td>-10.466000</td>\n",
              "      <td>1.000000</td>\n",
              "      <td>34.000000</td>\n",
              "      <td>0.044600</td>\n",
              "      <td>114.795000</td>\n",
              "      <td>0.539000</td>\n",
              "      <td>1978.000000</td>\n",
              "    </tr>\n",
              "    <tr>\n",
              "      <th>75%</th>\n",
              "      <td>0.896000</td>\n",
              "      <td>0.662000</td>\n",
              "      <td>2.637070e+05</td>\n",
              "      <td>0.709000</td>\n",
              "      <td>0.000000</td>\n",
              "      <td>0.111000</td>\n",
              "      <td>8.000000</td>\n",
              "      <td>0.259000</td>\n",
              "      <td>-7.135000</td>\n",
              "      <td>1.000000</td>\n",
              "      <td>48.000000</td>\n",
              "      <td>0.072300</td>\n",
              "      <td>135.733500</td>\n",
              "      <td>0.749000</td>\n",
              "      <td>1999.000000</td>\n",
              "    </tr>\n",
              "    <tr>\n",
              "      <th>max</th>\n",
              "      <td>0.996000</td>\n",
              "      <td>0.988000</td>\n",
              "      <td>5.403500e+06</td>\n",
              "      <td>1.000000</td>\n",
              "      <td>1.000000</td>\n",
              "      <td>1.000000</td>\n",
              "      <td>11.000000</td>\n",
              "      <td>1.000000</td>\n",
              "      <td>3.855000</td>\n",
              "      <td>1.000000</td>\n",
              "      <td>100.000000</td>\n",
              "      <td>0.968000</td>\n",
              "      <td>244.091000</td>\n",
              "      <td>1.000000</td>\n",
              "      <td>2020.000000</td>\n",
              "    </tr>\n",
              "  </tbody>\n",
              "</table>\n",
              "</div>"
            ],
            "text/plain": [
              "        acousticness   danceability  ...        valence           year\n",
              "count  168592.000000  168592.000000  ...  168592.000000  168592.000000\n",
              "mean        0.501360       0.533648  ...       0.528497    1977.457774\n",
              "std         0.377993       0.175919  ...       0.264457      25.406757\n",
              "min         0.000000       0.000000  ...       0.000000    1921.000000\n",
              "25%         0.097800       0.412000  ...       0.315000    1957.000000\n",
              "50%         0.515000       0.543000  ...       0.539000    1978.000000\n",
              "75%         0.896000       0.662000  ...       0.749000    1999.000000\n",
              "max         0.996000       0.988000  ...       1.000000    2020.000000\n",
              "\n",
              "[8 rows x 15 columns]"
            ]
          },
          "metadata": {
            "tags": []
          },
          "execution_count": 8
        }
      ]
    },
    {
      "cell_type": "code",
      "metadata": {
        "id": "7UCeQwcn6XbQ",
        "colab_type": "code",
        "colab": {
          "base_uri": "https://localhost:8080/",
          "height": 328
        },
        "outputId": "03a936aa-7a20-44f9-a289-8d7ffa0536e9"
      },
      "source": [
        "spotify.head()"
      ],
      "execution_count": null,
      "outputs": [
        {
          "output_type": "execute_result",
          "data": {
            "text/html": [
              "<div>\n",
              "<style scoped>\n",
              "    .dataframe tbody tr th:only-of-type {\n",
              "        vertical-align: middle;\n",
              "    }\n",
              "\n",
              "    .dataframe tbody tr th {\n",
              "        vertical-align: top;\n",
              "    }\n",
              "\n",
              "    .dataframe thead th {\n",
              "        text-align: right;\n",
              "    }\n",
              "</style>\n",
              "<table border=\"1\" class=\"dataframe\">\n",
              "  <thead>\n",
              "    <tr style=\"text-align: right;\">\n",
              "      <th></th>\n",
              "      <th>acousticness</th>\n",
              "      <th>artists</th>\n",
              "      <th>danceability</th>\n",
              "      <th>duration_ms</th>\n",
              "      <th>energy</th>\n",
              "      <th>explicit</th>\n",
              "      <th>id</th>\n",
              "      <th>instrumentalness</th>\n",
              "      <th>key</th>\n",
              "      <th>liveness</th>\n",
              "      <th>loudness</th>\n",
              "      <th>mode</th>\n",
              "      <th>name</th>\n",
              "      <th>popularity</th>\n",
              "      <th>release_date</th>\n",
              "      <th>speechiness</th>\n",
              "      <th>tempo</th>\n",
              "      <th>valence</th>\n",
              "      <th>year</th>\n",
              "    </tr>\n",
              "  </thead>\n",
              "  <tbody>\n",
              "    <tr>\n",
              "      <th>0</th>\n",
              "      <td>0.732</td>\n",
              "      <td>['Dennis Day']</td>\n",
              "      <td>0.819</td>\n",
              "      <td>180533</td>\n",
              "      <td>0.341</td>\n",
              "      <td>0</td>\n",
              "      <td>7xPhfUan2yNtyFG0cUWkt8</td>\n",
              "      <td>0.000000</td>\n",
              "      <td>7</td>\n",
              "      <td>0.160</td>\n",
              "      <td>-12.441</td>\n",
              "      <td>1</td>\n",
              "      <td>Clancy Lowered the Boom</td>\n",
              "      <td>8</td>\n",
              "      <td>1921</td>\n",
              "      <td>0.4150</td>\n",
              "      <td>60.936</td>\n",
              "      <td>0.9630</td>\n",
              "      <td>1921</td>\n",
              "    </tr>\n",
              "    <tr>\n",
              "      <th>1</th>\n",
              "      <td>0.982</td>\n",
              "      <td>['Sergei Rachmaninoff', 'James Levine', 'Berli...</td>\n",
              "      <td>0.279</td>\n",
              "      <td>831667</td>\n",
              "      <td>0.211</td>\n",
              "      <td>0</td>\n",
              "      <td>4BJqT0PrAfrxzMOxytFOIz</td>\n",
              "      <td>0.878000</td>\n",
              "      <td>10</td>\n",
              "      <td>0.665</td>\n",
              "      <td>-20.096</td>\n",
              "      <td>1</td>\n",
              "      <td>Piano Concerto No. 3 in D Minor, Op. 30: III. ...</td>\n",
              "      <td>5</td>\n",
              "      <td>1921</td>\n",
              "      <td>0.0366</td>\n",
              "      <td>80.954</td>\n",
              "      <td>0.0594</td>\n",
              "      <td>1921</td>\n",
              "    </tr>\n",
              "    <tr>\n",
              "      <th>2</th>\n",
              "      <td>0.996</td>\n",
              "      <td>['John McCormack']</td>\n",
              "      <td>0.518</td>\n",
              "      <td>159507</td>\n",
              "      <td>0.203</td>\n",
              "      <td>0</td>\n",
              "      <td>5uNZnElqOS3W4fRmRYPk4T</td>\n",
              "      <td>0.000000</td>\n",
              "      <td>0</td>\n",
              "      <td>0.115</td>\n",
              "      <td>-10.589</td>\n",
              "      <td>1</td>\n",
              "      <td>The Wearing of the Green</td>\n",
              "      <td>6</td>\n",
              "      <td>1921</td>\n",
              "      <td>0.0615</td>\n",
              "      <td>66.221</td>\n",
              "      <td>0.4060</td>\n",
              "      <td>1921</td>\n",
              "    </tr>\n",
              "    <tr>\n",
              "      <th>3</th>\n",
              "      <td>0.982</td>\n",
              "      <td>['Sergei Rachmaninoff', 'James Levine', 'Berli...</td>\n",
              "      <td>0.279</td>\n",
              "      <td>831667</td>\n",
              "      <td>0.211</td>\n",
              "      <td>0</td>\n",
              "      <td>1SCWBjhk5WmXPxhDduD3HM</td>\n",
              "      <td>0.878000</td>\n",
              "      <td>10</td>\n",
              "      <td>0.665</td>\n",
              "      <td>-20.096</td>\n",
              "      <td>1</td>\n",
              "      <td>Piano Concerto No. 3 in D Minor, Op. 30: III. ...</td>\n",
              "      <td>4</td>\n",
              "      <td>1921</td>\n",
              "      <td>0.0366</td>\n",
              "      <td>80.954</td>\n",
              "      <td>0.0594</td>\n",
              "      <td>1921</td>\n",
              "    </tr>\n",
              "    <tr>\n",
              "      <th>4</th>\n",
              "      <td>0.957</td>\n",
              "      <td>['Phil Regan']</td>\n",
              "      <td>0.418</td>\n",
              "      <td>166693</td>\n",
              "      <td>0.193</td>\n",
              "      <td>0</td>\n",
              "      <td>4d6HGyGT8e121BsdKmw9v6</td>\n",
              "      <td>0.000002</td>\n",
              "      <td>3</td>\n",
              "      <td>0.229</td>\n",
              "      <td>-10.096</td>\n",
              "      <td>1</td>\n",
              "      <td>When Irish Eyes Are Smiling</td>\n",
              "      <td>4</td>\n",
              "      <td>1921</td>\n",
              "      <td>0.0380</td>\n",
              "      <td>101.665</td>\n",
              "      <td>0.2530</td>\n",
              "      <td>1921</td>\n",
              "    </tr>\n",
              "  </tbody>\n",
              "</table>\n",
              "</div>"
            ],
            "text/plain": [
              "   acousticness  ...  year\n",
              "0         0.732  ...  1921\n",
              "1         0.982  ...  1921\n",
              "2         0.996  ...  1921\n",
              "3         0.982  ...  1921\n",
              "4         0.957  ...  1921\n",
              "\n",
              "[5 rows x 19 columns]"
            ]
          },
          "metadata": {
            "tags": []
          },
          "execution_count": 9
        }
      ]
    },
    {
      "cell_type": "markdown",
      "metadata": {
        "id": "FDjs6cGSy2Sk",
        "colab_type": "text"
      },
      "source": [
        "## **Did the world become happier?**"
      ]
    },
    {
      "cell_type": "markdown",
      "metadata": {
        "id": "Xn-WpG_BzNzo",
        "colab_type": "text"
      },
      "source": [
        "***Trend of Tempo and Danceability***"
      ]
    },
    {
      "cell_type": "code",
      "metadata": {
        "id": "oIB5ZVh54iis",
        "colab_type": "code",
        "colab": {
          "base_uri": "https://localhost:8080/",
          "height": 554
        },
        "outputId": "c06d56ca-4280-46e8-b460-778899bbfa09"
      },
      "source": [
        "#plotting tempo and dance-ability to see if thers's a similar pattern in both\n",
        "\n",
        "f, axes = plt.subplots(1,2, figsize=(18,8))\n",
        "ax=sns.set_style(\"darkgrid\")\n",
        "\n",
        "sns.lineplot(x=\"year\", y=\"tempo\", data=spotify, ax=axes[0],color=\"red\", label=\"tempo\", err_style=None)\n",
        "sns.lineplot(x=\"year\", y=\"danceability\", data=spotify, ax=axes[1], label=\"danceability\", err_style=None)\n",
        "plt.suptitle(\"Trend of Tempo and Danceability\", fontsize=12)\n",
        "plt.savefig(\"Tempo and Danceability.png\")"
      ],
      "execution_count": null,
      "outputs": [
        {
          "output_type": "display_data",
          "data": {
            "image/png": "[encoded data removed]",
            "text/plain": [
              "<Figure size 1296x576 with 2 Axes>"
            ]
          },
          "metadata": {
            "tags": []
          }
        }
      ]
    },
    {
      "cell_type": "markdown",
      "metadata": {
        "id": "zW1tDTGi099x",
        "colab_type": "text"
      },
      "source": [
        "***Trend of valence***"
      ]
    },
    {
      "cell_type": "code",
      "metadata": {
        "id": "v6jjVuzz6Xh6",
        "colab_type": "code",
        "colab": {
          "base_uri": "https://localhost:8080/",
          "height": 534
        },
        "outputId": "c18575d8-b200-4a07-8f9b-b62a85723b7c"
      },
      "source": [
        "#plotting valence\n",
        "\n",
        "plt.figure(figsize=(10, 6))\n",
        "\n",
        "sns.set_style(\"darkgrid\")\n",
        "plt.figure(figsize=(14,8))\n",
        "sns.lineplot(x=spotify[\"year\"], y=spotify[\"valence\"], label=\"valence\", err_style=None,)"
      ],
      "execution_count": null,
      "outputs": [
        {
          "output_type": "execute_result",
          "data": {
            "text/plain": [
              "<matplotlib.axes._subplots.AxesSubplot at 0x7f817e6d40f0>"
            ]
          },
          "metadata": {
            "tags": []
          },
          "execution_count": 65
        },
        {
          "output_type": "display_data",
          "data": {
            "text/plain": [
              "<Figure size 720x432 with 0 Axes>"
            ]
          },
          "metadata": {
            "tags": []
          }
        },
        {
          "output_type": "display_data",
          "data": {
            "image/png": "[encoded data removed]",
            "text/plain": [
              "<Figure size 1008x576 with 1 Axes>"
            ]
          },
          "metadata": {
            "tags": []
          }
        }
      ]
    },
    {
      "cell_type": "markdown",
      "metadata": {
        "id": "n5xnjruszMgL",
        "colab_type": "text"
      },
      "source": [
        ""
      ]
    },
    {
      "cell_type": "code",
      "metadata": {
        "id": "TTm7qTYd7qCw",
        "colab_type": "code",
        "colab": {
          "base_uri": "https://localhost:8080/",
          "height": 328
        },
        "outputId": "7295d525-5af4-4729-bc0d-18feaabaccd3"
      },
      "source": [
        "spotify.head()"
      ],
      "execution_count": null,
      "outputs": [
        {
          "output_type": "execute_result",
          "data": {
            "text/html": [
              "<div>\n",
              "<style scoped>\n",
              "    .dataframe tbody tr th:only-of-type {\n",
              "        vertical-align: middle;\n",
              "    }\n",
              "\n",
              "    .dataframe tbody tr th {\n",
              "        vertical-align: top;\n",
              "    }\n",
              "\n",
              "    .dataframe thead th {\n",
              "        text-align: right;\n",
              "    }\n",
              "</style>\n",
              "<table border=\"1\" class=\"dataframe\">\n",
              "  <thead>\n",
              "    <tr style=\"text-align: right;\">\n",
              "      <th></th>\n",
              "      <th>acousticness</th>\n",
              "      <th>artists</th>\n",
              "      <th>danceability</th>\n",
              "      <th>duration_ms</th>\n",
              "      <th>energy</th>\n",
              "      <th>explicit</th>\n",
              "      <th>id</th>\n",
              "      <th>instrumentalness</th>\n",
              "      <th>key</th>\n",
              "      <th>liveness</th>\n",
              "      <th>loudness</th>\n",
              "      <th>mode</th>\n",
              "      <th>name</th>\n",
              "      <th>popularity</th>\n",
              "      <th>release_date</th>\n",
              "      <th>speechiness</th>\n",
              "      <th>tempo</th>\n",
              "      <th>valence</th>\n",
              "      <th>year</th>\n",
              "    </tr>\n",
              "  </thead>\n",
              "  <tbody>\n",
              "    <tr>\n",
              "      <th>0</th>\n",
              "      <td>0.732</td>\n",
              "      <td>['Dennis Day']</td>\n",
              "      <td>0.819</td>\n",
              "      <td>180533</td>\n",
              "      <td>0.341</td>\n",
              "      <td>0</td>\n",
              "      <td>7xPhfUan2yNtyFG0cUWkt8</td>\n",
              "      <td>0.000000</td>\n",
              "      <td>7</td>\n",
              "      <td>0.160</td>\n",
              "      <td>-12.441</td>\n",
              "      <td>1</td>\n",
              "      <td>Clancy Lowered the Boom</td>\n",
              "      <td>8</td>\n",
              "      <td>1921</td>\n",
              "      <td>0.4150</td>\n",
              "      <td>60.936</td>\n",
              "      <td>0.9630</td>\n",
              "      <td>1921</td>\n",
              "    </tr>\n",
              "    <tr>\n",
              "      <th>1</th>\n",
              "      <td>0.982</td>\n",
              "      <td>['Sergei Rachmaninoff', 'James Levine', 'Berli...</td>\n",
              "      <td>0.279</td>\n",
              "      <td>831667</td>\n",
              "      <td>0.211</td>\n",
              "      <td>0</td>\n",
              "      <td>4BJqT0PrAfrxzMOxytFOIz</td>\n",
              "      <td>0.878000</td>\n",
              "      <td>10</td>\n",
              "      <td>0.665</td>\n",
              "      <td>-20.096</td>\n",
              "      <td>1</td>\n",
              "      <td>Piano Concerto No. 3 in D Minor, Op. 30: III. ...</td>\n",
              "      <td>5</td>\n",
              "      <td>1921</td>\n",
              "      <td>0.0366</td>\n",
              "      <td>80.954</td>\n",
              "      <td>0.0594</td>\n",
              "      <td>1921</td>\n",
              "    </tr>\n",
              "    <tr>\n",
              "      <th>2</th>\n",
              "      <td>0.996</td>\n",
              "      <td>['John McCormack']</td>\n",
              "      <td>0.518</td>\n",
              "      <td>159507</td>\n",
              "      <td>0.203</td>\n",
              "      <td>0</td>\n",
              "      <td>5uNZnElqOS3W4fRmRYPk4T</td>\n",
              "      <td>0.000000</td>\n",
              "      <td>0</td>\n",
              "      <td>0.115</td>\n",
              "      <td>-10.589</td>\n",
              "      <td>1</td>\n",
              "      <td>The Wearing of the Green</td>\n",
              "      <td>6</td>\n",
              "      <td>1921</td>\n",
              "      <td>0.0615</td>\n",
              "      <td>66.221</td>\n",
              "      <td>0.4060</td>\n",
              "      <td>1921</td>\n",
              "    </tr>\n",
              "    <tr>\n",
              "      <th>3</th>\n",
              "      <td>0.982</td>\n",
              "      <td>['Sergei Rachmaninoff', 'James Levine', 'Berli...</td>\n",
              "      <td>0.279</td>\n",
              "      <td>831667</td>\n",
              "      <td>0.211</td>\n",
              "      <td>0</td>\n",
              "      <td>1SCWBjhk5WmXPxhDduD3HM</td>\n",
              "      <td>0.878000</td>\n",
              "      <td>10</td>\n",
              "      <td>0.665</td>\n",
              "      <td>-20.096</td>\n",
              "      <td>1</td>\n",
              "      <td>Piano Concerto No. 3 in D Minor, Op. 30: III. ...</td>\n",
              "      <td>4</td>\n",
              "      <td>1921</td>\n",
              "      <td>0.0366</td>\n",
              "      <td>80.954</td>\n",
              "      <td>0.0594</td>\n",
              "      <td>1921</td>\n",
              "    </tr>\n",
              "    <tr>\n",
              "      <th>4</th>\n",
              "      <td>0.957</td>\n",
              "      <td>['Phil Regan']</td>\n",
              "      <td>0.418</td>\n",
              "      <td>166693</td>\n",
              "      <td>0.193</td>\n",
              "      <td>0</td>\n",
              "      <td>4d6HGyGT8e121BsdKmw9v6</td>\n",
              "      <td>0.000002</td>\n",
              "      <td>3</td>\n",
              "      <td>0.229</td>\n",
              "      <td>-10.096</td>\n",
              "      <td>1</td>\n",
              "      <td>When Irish Eyes Are Smiling</td>\n",
              "      <td>4</td>\n",
              "      <td>1921</td>\n",
              "      <td>0.0380</td>\n",
              "      <td>101.665</td>\n",
              "      <td>0.2530</td>\n",
              "      <td>1921</td>\n",
              "    </tr>\n",
              "  </tbody>\n",
              "</table>\n",
              "</div>"
            ],
            "text/plain": [
              "   acousticness  ...  year\n",
              "0         0.732  ...  1921\n",
              "1         0.982  ...  1921\n",
              "2         0.996  ...  1921\n",
              "3         0.982  ...  1921\n",
              "4         0.957  ...  1921\n",
              "\n",
              "[5 rows x 19 columns]"
            ]
          },
          "metadata": {
            "tags": []
          },
          "execution_count": 12
        }
      ]
    },
    {
      "cell_type": "code",
      "metadata": {
        "id": "TIK0qn8rq2hW",
        "colab_type": "code",
        "colab": {
          "base_uri": "https://localhost:8080/",
          "height": 206
        },
        "outputId": "d9f00292-9b90-4233-8f8d-e41cece895c9"
      },
      "source": [
        "genre.head()"
      ],
      "execution_count": null,
      "outputs": [
        {
          "output_type": "execute_result",
          "data": {
            "text/html": [
              "<div>\n",
              "<style scoped>\n",
              "    .dataframe tbody tr th:only-of-type {\n",
              "        vertical-align: middle;\n",
              "    }\n",
              "\n",
              "    .dataframe tbody tr th {\n",
              "        vertical-align: top;\n",
              "    }\n",
              "\n",
              "    .dataframe thead th {\n",
              "        text-align: right;\n",
              "    }\n",
              "</style>\n",
              "<table border=\"1\" class=\"dataframe\">\n",
              "  <thead>\n",
              "    <tr style=\"text-align: right;\">\n",
              "      <th></th>\n",
              "      <th>genres</th>\n",
              "      <th>acousticness</th>\n",
              "      <th>danceability</th>\n",
              "      <th>duration_ms</th>\n",
              "      <th>energy</th>\n",
              "      <th>instrumentalness</th>\n",
              "      <th>liveness</th>\n",
              "      <th>loudness</th>\n",
              "      <th>speechiness</th>\n",
              "      <th>tempo</th>\n",
              "      <th>valence</th>\n",
              "      <th>popularity</th>\n",
              "      <th>key</th>\n",
              "      <th>mode</th>\n",
              "    </tr>\n",
              "  </thead>\n",
              "  <tbody>\n",
              "    <tr>\n",
              "      <th>0</th>\n",
              "      <td>21st century classical</td>\n",
              "      <td>0.983000</td>\n",
              "      <td>0.218500</td>\n",
              "      <td>1.496130e+05</td>\n",
              "      <td>0.018350</td>\n",
              "      <td>0.874000</td>\n",
              "      <td>0.112800</td>\n",
              "      <td>-37.256000</td>\n",
              "      <td>0.038750</td>\n",
              "      <td>69.526500</td>\n",
              "      <td>0.062900</td>\n",
              "      <td>40.500000</td>\n",
              "      <td>1</td>\n",
              "      <td>1</td>\n",
              "    </tr>\n",
              "    <tr>\n",
              "      <th>1</th>\n",
              "      <td>432hz</td>\n",
              "      <td>0.485070</td>\n",
              "      <td>0.330000</td>\n",
              "      <td>1.059273e+06</td>\n",
              "      <td>0.463084</td>\n",
              "      <td>0.480393</td>\n",
              "      <td>0.118862</td>\n",
              "      <td>-17.099000</td>\n",
              "      <td>0.086288</td>\n",
              "      <td>125.227125</td>\n",
              "      <td>0.217675</td>\n",
              "      <td>52.125000</td>\n",
              "      <td>6</td>\n",
              "      <td>1</td>\n",
              "    </tr>\n",
              "    <tr>\n",
              "      <th>2</th>\n",
              "      <td>[]</td>\n",
              "      <td>0.686395</td>\n",
              "      <td>0.516830</td>\n",
              "      <td>2.305397e+05</td>\n",
              "      <td>0.397491</td>\n",
              "      <td>0.202883</td>\n",
              "      <td>0.221324</td>\n",
              "      <td>-12.773475</td>\n",
              "      <td>0.109871</td>\n",
              "      <td>111.933224</td>\n",
              "      <td>0.513905</td>\n",
              "      <td>21.556669</td>\n",
              "      <td>7</td>\n",
              "      <td>1</td>\n",
              "    </tr>\n",
              "    <tr>\n",
              "      <th>3</th>\n",
              "      <td>a cappella</td>\n",
              "      <td>0.666036</td>\n",
              "      <td>0.576732</td>\n",
              "      <td>1.961439e+05</td>\n",
              "      <td>0.334535</td>\n",
              "      <td>0.028486</td>\n",
              "      <td>0.128292</td>\n",
              "      <td>-13.011177</td>\n",
              "      <td>0.106782</td>\n",
              "      <td>112.461108</td>\n",
              "      <td>0.502521</td>\n",
              "      <td>38.786415</td>\n",
              "      <td>11</td>\n",
              "      <td>1</td>\n",
              "    </tr>\n",
              "    <tr>\n",
              "      <th>4</th>\n",
              "      <td>abstract</td>\n",
              "      <td>0.352395</td>\n",
              "      <td>0.489100</td>\n",
              "      <td>3.429772e+05</td>\n",
              "      <td>0.509300</td>\n",
              "      <td>0.788033</td>\n",
              "      <td>0.122317</td>\n",
              "      <td>-13.812100</td>\n",
              "      <td>0.044157</td>\n",
              "      <td>124.176500</td>\n",
              "      <td>0.354130</td>\n",
              "      <td>41.600000</td>\n",
              "      <td>1</td>\n",
              "      <td>1</td>\n",
              "    </tr>\n",
              "  </tbody>\n",
              "</table>\n",
              "</div>"
            ],
            "text/plain": [
              "                   genres  acousticness  danceability  ...  popularity  key  mode\n",
              "0  21st century classical      0.983000      0.218500  ...   40.500000    1     1\n",
              "1                   432hz      0.485070      0.330000  ...   52.125000    6     1\n",
              "2                      []      0.686395      0.516830  ...   21.556669    7     1\n",
              "3              a cappella      0.666036      0.576732  ...   38.786415   11     1\n",
              "4                abstract      0.352395      0.489100  ...   41.600000    1     1\n",
              "\n",
              "[5 rows x 14 columns]"
            ]
          },
          "metadata": {
            "tags": []
          },
          "execution_count": 13
        }
      ]
    },
    {
      "cell_type": "code",
      "metadata": {
        "id": "_2ukXUhHre1E",
        "colab_type": "code",
        "colab": {
          "base_uri": "https://localhost:8080/",
          "height": 206
        },
        "outputId": "971d3710-30f7-40f8-e18f-b991aa5fdb0d"
      },
      "source": [
        "artist.head()"
      ],
      "execution_count": null,
      "outputs": [
        {
          "output_type": "execute_result",
          "data": {
            "text/html": [
              "<div>\n",
              "<style scoped>\n",
              "    .dataframe tbody tr th:only-of-type {\n",
              "        vertical-align: middle;\n",
              "    }\n",
              "\n",
              "    .dataframe tbody tr th {\n",
              "        vertical-align: top;\n",
              "    }\n",
              "\n",
              "    .dataframe thead th {\n",
              "        text-align: right;\n",
              "    }\n",
              "</style>\n",
              "<table border=\"1\" class=\"dataframe\">\n",
              "  <thead>\n",
              "    <tr style=\"text-align: right;\">\n",
              "      <th></th>\n",
              "      <th>artists</th>\n",
              "      <th>acousticness</th>\n",
              "      <th>danceability</th>\n",
              "      <th>duration_ms</th>\n",
              "      <th>energy</th>\n",
              "      <th>instrumentalness</th>\n",
              "      <th>liveness</th>\n",
              "      <th>loudness</th>\n",
              "      <th>speechiness</th>\n",
              "      <th>tempo</th>\n",
              "      <th>valence</th>\n",
              "      <th>popularity</th>\n",
              "      <th>key</th>\n",
              "      <th>mode</th>\n",
              "      <th>count</th>\n",
              "    </tr>\n",
              "  </thead>\n",
              "  <tbody>\n",
              "    <tr>\n",
              "      <th>0</th>\n",
              "      <td>Francisco Canaro</td>\n",
              "      <td>0.983072</td>\n",
              "      <td>0.654711</td>\n",
              "      <td>177776.513454</td>\n",
              "      <td>0.292622</td>\n",
              "      <td>0.490675</td>\n",
              "      <td>0.201118</td>\n",
              "      <td>-11.733373</td>\n",
              "      <td>0.111007</td>\n",
              "      <td>123.608786</td>\n",
              "      <td>0.746469</td>\n",
              "      <td>0.054257</td>\n",
              "      <td>2</td>\n",
              "      <td>1</td>\n",
              "      <td>2267</td>\n",
              "    </tr>\n",
              "    <tr>\n",
              "      <th>1</th>\n",
              "      <td>Frédéric Chopin</td>\n",
              "      <td>0.989961</td>\n",
              "      <td>0.340087</td>\n",
              "      <td>251871.948502</td>\n",
              "      <td>0.106874</td>\n",
              "      <td>0.876899</td>\n",
              "      <td>0.155677</td>\n",
              "      <td>-22.575578</td>\n",
              "      <td>0.042913</td>\n",
              "      <td>90.977772</td>\n",
              "      <td>0.203644</td>\n",
              "      <td>5.748127</td>\n",
              "      <td>1</td>\n",
              "      <td>1</td>\n",
              "      <td>1068</td>\n",
              "    </tr>\n",
              "    <tr>\n",
              "      <th>2</th>\n",
              "      <td>Ludwig van Beethoven</td>\n",
              "      <td>0.955019</td>\n",
              "      <td>0.340157</td>\n",
              "      <td>439361.331606</td>\n",
              "      <td>0.153176</td>\n",
              "      <td>0.690770</td>\n",
              "      <td>0.164078</td>\n",
              "      <td>-20.107704</td>\n",
              "      <td>0.055550</td>\n",
              "      <td>104.833536</td>\n",
              "      <td>0.260255</td>\n",
              "      <td>5.237306</td>\n",
              "      <td>0</td>\n",
              "      <td>1</td>\n",
              "      <td>965</td>\n",
              "    </tr>\n",
              "    <tr>\n",
              "      <th>3</th>\n",
              "      <td>Wolfgang Amadeus Mozart</td>\n",
              "      <td>0.962084</td>\n",
              "      <td>0.353895</td>\n",
              "      <td>327808.037306</td>\n",
              "      <td>0.138348</td>\n",
              "      <td>0.514837</td>\n",
              "      <td>0.187091</td>\n",
              "      <td>-20.214154</td>\n",
              "      <td>0.067756</td>\n",
              "      <td>108.594920</td>\n",
              "      <td>0.332855</td>\n",
              "      <td>9.624870</td>\n",
              "      <td>7</td>\n",
              "      <td>1</td>\n",
              "      <td>965</td>\n",
              "    </tr>\n",
              "    <tr>\n",
              "      <th>4</th>\n",
              "      <td>Johann Sebastian Bach</td>\n",
              "      <td>0.958405</td>\n",
              "      <td>0.354224</td>\n",
              "      <td>203461.757872</td>\n",
              "      <td>0.201932</td>\n",
              "      <td>0.744322</td>\n",
              "      <td>0.165837</td>\n",
              "      <td>-20.936518</td>\n",
              "      <td>0.048844</td>\n",
              "      <td>106.551869</td>\n",
              "      <td>0.570526</td>\n",
              "      <td>14.704669</td>\n",
              "      <td>7</td>\n",
              "      <td>1</td>\n",
              "      <td>921</td>\n",
              "    </tr>\n",
              "  </tbody>\n",
              "</table>\n",
              "</div>"
            ],
            "text/plain": [
              "                   artists  acousticness  danceability  ...  key  mode  count\n",
              "0         Francisco Canaro      0.983072      0.654711  ...    2     1   2267\n",
              "1          Frédéric Chopin      0.989961      0.340087  ...    1     1   1068\n",
              "2     Ludwig van Beethoven      0.955019      0.340157  ...    0     1    965\n",
              "3  Wolfgang Amadeus Mozart      0.962084      0.353895  ...    7     1    965\n",
              "4    Johann Sebastian Bach      0.958405      0.354224  ...    7     1    921\n",
              "\n",
              "[5 rows x 15 columns]"
            ]
          },
          "metadata": {
            "tags": []
          },
          "execution_count": 14
        }
      ]
    },
    {
      "cell_type": "markdown",
      "metadata": {
        "id": "RcOPfyEuzhOC",
        "colab_type": "text"
      },
      "source": [
        "# **Biggest Winners?**"
      ]
    },
    {
      "cell_type": "code",
      "metadata": {
        "id": "mZBRvbqBuu-v",
        "colab_type": "code",
        "colab": {}
      },
      "source": [
        "#grouping the top 10 popular genres into a new df called popularity\n",
        "\n",
        "popularity = genre.groupby(\"genres\")[\"popularity\"].sum().to_frame().sort_values([\"popularity\"], ascending=False).head(10)"
      ],
      "execution_count": null,
      "outputs": []
    },
    {
      "cell_type": "code",
      "metadata": {
        "id": "NLH5PVEF1Vyg",
        "colab_type": "code",
        "colab": {
          "base_uri": "https://localhost:8080/",
          "height": 395
        },
        "outputId": "e66a5af9-e40a-4ee4-b094-f11e65638884"
      },
      "source": [
        "popularity"
      ],
      "execution_count": null,
      "outputs": [
        {
          "output_type": "execute_result",
          "data": {
            "text/html": [
              "<div>\n",
              "<style scoped>\n",
              "    .dataframe tbody tr th:only-of-type {\n",
              "        vertical-align: middle;\n",
              "    }\n",
              "\n",
              "    .dataframe tbody tr th {\n",
              "        vertical-align: top;\n",
              "    }\n",
              "\n",
              "    .dataframe thead th {\n",
              "        text-align: right;\n",
              "    }\n",
              "</style>\n",
              "<table border=\"1\" class=\"dataframe\">\n",
              "  <thead>\n",
              "    <tr style=\"text-align: right;\">\n",
              "      <th></th>\n",
              "      <th>popularity</th>\n",
              "    </tr>\n",
              "    <tr>\n",
              "      <th>genres</th>\n",
              "      <th></th>\n",
              "    </tr>\n",
              "  </thead>\n",
              "  <tbody>\n",
              "    <tr>\n",
              "      <th>russian dance</th>\n",
              "      <td>85.000000</td>\n",
              "    </tr>\n",
              "    <tr>\n",
              "      <th>guaracha</th>\n",
              "      <td>82.000000</td>\n",
              "    </tr>\n",
              "    <tr>\n",
              "      <th>circuit</th>\n",
              "      <td>82.000000</td>\n",
              "    </tr>\n",
              "    <tr>\n",
              "      <th>r&amp;b en espanol</th>\n",
              "      <td>78.446154</td>\n",
              "    </tr>\n",
              "    <tr>\n",
              "      <th>dutch urban</th>\n",
              "      <td>78.000000</td>\n",
              "    </tr>\n",
              "    <tr>\n",
              "      <th>dong-yo</th>\n",
              "      <td>78.000000</td>\n",
              "    </tr>\n",
              "    <tr>\n",
              "      <th>ritmo kombina</th>\n",
              "      <td>77.000000</td>\n",
              "    </tr>\n",
              "    <tr>\n",
              "      <th>chinese hip hop</th>\n",
              "      <td>76.000000</td>\n",
              "    </tr>\n",
              "    <tr>\n",
              "      <th>indie triste</th>\n",
              "      <td>76.000000</td>\n",
              "    </tr>\n",
              "    <tr>\n",
              "      <th>uk drill</th>\n",
              "      <td>75.500000</td>\n",
              "    </tr>\n",
              "  </tbody>\n",
              "</table>\n",
              "</div>"
            ],
            "text/plain": [
              "                 popularity\n",
              "genres                     \n",
              "russian dance     85.000000\n",
              "guaracha          82.000000\n",
              "circuit           82.000000\n",
              "r&b en espanol    78.446154\n",
              "dutch urban       78.000000\n",
              "dong-yo           78.000000\n",
              "ritmo kombina     77.000000\n",
              "chinese hip hop   76.000000\n",
              "indie triste      76.000000\n",
              "uk drill          75.500000"
            ]
          },
          "metadata": {
            "tags": []
          },
          "execution_count": 16
        }
      ]
    },
    {
      "cell_type": "markdown",
      "metadata": {
        "id": "2xAzehcg0gLN",
        "colab_type": "text"
      },
      "source": [
        "***Most Popular Genres***"
      ]
    },
    {
      "cell_type": "code",
      "metadata": {
        "id": "phiXDQ8E3RLV",
        "colab_type": "code",
        "colab": {
          "base_uri": "https://localhost:8080/",
          "height": 422
        },
        "outputId": "2ccdd927-c985-45b7-f339-a8937671bab8"
      },
      "source": [
        "#plotting the top 10 popular genres\n",
        "\n",
        "plt.figure(figsize=(14, 6))\n",
        "sns.set_style(\"darkgrid\")\n",
        "plt.title(\"Top 10 Genres by Popularity\")\n",
        "\n",
        "sns.barplot(x=popularity.index, y=\"popularity\", data=popularity, color=\"#437CB6\")"
      ],
      "execution_count": null,
      "outputs": [
        {
          "output_type": "execute_result",
          "data": {
            "text/plain": [
              "<matplotlib.axes._subplots.AxesSubplot at 0x7f817f44a828>"
            ]
          },
          "metadata": {
            "tags": []
          },
          "execution_count": 60
        },
        {
          "output_type": "display_data",
          "data": {
            "image/png": "[encoded data removed]",
            "text/plain": [
              "<Figure size 1008x432 with 1 Axes>"
            ]
          },
          "metadata": {
            "tags": []
          }
        }
      ]
    },
    {
      "cell_type": "code",
      "metadata": {
        "id": "KXYIULaU44au",
        "colab_type": "code",
        "colab": {}
      },
      "source": [
        "#getting the (mean values of some of the)features of the top 10 popular genres and putting it into a new df called pop\n",
        "\n",
        "pop = genre.groupby(\"genres\")[[\"popularity\",\"acousticness\",\"tempo\",\"danceability\",\"valence\",\"speechiness\",\"loudness\", \"liveness\", \"energy\", \"instrumentalness\"]].mean().sort_values([\"popularity\"], ascending=False).head(10)"
      ],
      "execution_count": null,
      "outputs": []
    },
    {
      "cell_type": "code",
      "metadata": {
        "id": "a7_Mr_du6NUP",
        "colab_type": "code",
        "colab": {
          "base_uri": "https://localhost:8080/",
          "height": 395
        },
        "outputId": "a1c8e834-21dd-4973-b952-430adb9f6c2e"
      },
      "source": [
        "pop"
      ],
      "execution_count": null,
      "outputs": [
        {
          "output_type": "execute_result",
          "data": {
            "text/html": [
              "<div>\n",
              "<style scoped>\n",
              "    .dataframe tbody tr th:only-of-type {\n",
              "        vertical-align: middle;\n",
              "    }\n",
              "\n",
              "    .dataframe tbody tr th {\n",
              "        vertical-align: top;\n",
              "    }\n",
              "\n",
              "    .dataframe thead th {\n",
              "        text-align: right;\n",
              "    }\n",
              "</style>\n",
              "<table border=\"1\" class=\"dataframe\">\n",
              "  <thead>\n",
              "    <tr style=\"text-align: right;\">\n",
              "      <th></th>\n",
              "      <th>popularity</th>\n",
              "      <th>acousticness</th>\n",
              "      <th>tempo</th>\n",
              "      <th>danceability</th>\n",
              "      <th>valence</th>\n",
              "      <th>speechiness</th>\n",
              "      <th>loudness</th>\n",
              "      <th>liveness</th>\n",
              "      <th>energy</th>\n",
              "      <th>instrumentalness</th>\n",
              "    </tr>\n",
              "    <tr>\n",
              "      <th>genres</th>\n",
              "      <th></th>\n",
              "      <th></th>\n",
              "      <th></th>\n",
              "      <th></th>\n",
              "      <th></th>\n",
              "      <th></th>\n",
              "      <th></th>\n",
              "      <th></th>\n",
              "      <th></th>\n",
              "      <th></th>\n",
              "    </tr>\n",
              "  </thead>\n",
              "  <tbody>\n",
              "    <tr>\n",
              "      <th>russian dance</th>\n",
              "      <td>85.000000</td>\n",
              "      <td>0.005610</td>\n",
              "      <td>126.091000</td>\n",
              "      <td>0.653000</td>\n",
              "      <td>0.326000</td>\n",
              "      <td>0.095900</td>\n",
              "      <td>-2.6340</td>\n",
              "      <td>0.439000</td>\n",
              "      <td>0.945000</td>\n",
              "      <td>0.915000</td>\n",
              "    </tr>\n",
              "    <tr>\n",
              "      <th>guaracha</th>\n",
              "      <td>82.000000</td>\n",
              "      <td>0.009030</td>\n",
              "      <td>128.031000</td>\n",
              "      <td>0.745000</td>\n",
              "      <td>0.556000</td>\n",
              "      <td>0.077400</td>\n",
              "      <td>-3.5060</td>\n",
              "      <td>0.297000</td>\n",
              "      <td>0.972000</td>\n",
              "      <td>0.465000</td>\n",
              "    </tr>\n",
              "    <tr>\n",
              "      <th>circuit</th>\n",
              "      <td>82.000000</td>\n",
              "      <td>0.009030</td>\n",
              "      <td>128.031000</td>\n",
              "      <td>0.745000</td>\n",
              "      <td>0.556000</td>\n",
              "      <td>0.077400</td>\n",
              "      <td>-3.5060</td>\n",
              "      <td>0.297000</td>\n",
              "      <td>0.972000</td>\n",
              "      <td>0.465000</td>\n",
              "    </tr>\n",
              "    <tr>\n",
              "      <th>r&amp;b en espanol</th>\n",
              "      <td>78.446154</td>\n",
              "      <td>0.274831</td>\n",
              "      <td>134.531315</td>\n",
              "      <td>0.745015</td>\n",
              "      <td>0.537846</td>\n",
              "      <td>0.157413</td>\n",
              "      <td>-4.8676</td>\n",
              "      <td>0.117165</td>\n",
              "      <td>0.641785</td>\n",
              "      <td>0.002416</td>\n",
              "    </tr>\n",
              "    <tr>\n",
              "      <th>dutch urban</th>\n",
              "      <td>78.000000</td>\n",
              "      <td>0.170500</td>\n",
              "      <td>133.030500</td>\n",
              "      <td>0.766000</td>\n",
              "      <td>0.743000</td>\n",
              "      <td>0.098750</td>\n",
              "      <td>-3.6610</td>\n",
              "      <td>0.251800</td>\n",
              "      <td>0.774500</td>\n",
              "      <td>0.000052</td>\n",
              "    </tr>\n",
              "    <tr>\n",
              "      <th>dong-yo</th>\n",
              "      <td>78.000000</td>\n",
              "      <td>0.259000</td>\n",
              "      <td>115.056000</td>\n",
              "      <td>0.829000</td>\n",
              "      <td>0.777000</td>\n",
              "      <td>0.112000</td>\n",
              "      <td>-1.7460</td>\n",
              "      <td>0.055900</td>\n",
              "      <td>0.886000</td>\n",
              "      <td>0.000000</td>\n",
              "    </tr>\n",
              "    <tr>\n",
              "      <th>ritmo kombina</th>\n",
              "      <td>77.000000</td>\n",
              "      <td>0.216000</td>\n",
              "      <td>169.990000</td>\n",
              "      <td>0.767000</td>\n",
              "      <td>0.536000</td>\n",
              "      <td>0.101000</td>\n",
              "      <td>-5.2250</td>\n",
              "      <td>0.080600</td>\n",
              "      <td>0.643000</td>\n",
              "      <td>0.000104</td>\n",
              "    </tr>\n",
              "    <tr>\n",
              "      <th>chinese hip hop</th>\n",
              "      <td>76.000000</td>\n",
              "      <td>0.359000</td>\n",
              "      <td>89.968000</td>\n",
              "      <td>0.409000</td>\n",
              "      <td>0.168000</td>\n",
              "      <td>0.087800</td>\n",
              "      <td>-7.7310</td>\n",
              "      <td>0.167000</td>\n",
              "      <td>0.678000</td>\n",
              "      <td>0.000005</td>\n",
              "    </tr>\n",
              "    <tr>\n",
              "      <th>indie triste</th>\n",
              "      <td>76.000000</td>\n",
              "      <td>0.946000</td>\n",
              "      <td>104.950000</td>\n",
              "      <td>0.830000</td>\n",
              "      <td>0.189000</td>\n",
              "      <td>0.038300</td>\n",
              "      <td>-14.4610</td>\n",
              "      <td>0.362000</td>\n",
              "      <td>0.159000</td>\n",
              "      <td>0.000020</td>\n",
              "    </tr>\n",
              "    <tr>\n",
              "      <th>uk drill</th>\n",
              "      <td>75.500000</td>\n",
              "      <td>0.193500</td>\n",
              "      <td>108.035500</td>\n",
              "      <td>0.962000</td>\n",
              "      <td>0.330500</td>\n",
              "      <td>0.296500</td>\n",
              "      <td>-8.6925</td>\n",
              "      <td>0.171000</td>\n",
              "      <td>0.455000</td>\n",
              "      <td>0.005090</td>\n",
              "    </tr>\n",
              "  </tbody>\n",
              "</table>\n",
              "</div>"
            ],
            "text/plain": [
              "                 popularity  acousticness  ...    energy  instrumentalness\n",
              "genres                                     ...                            \n",
              "russian dance     85.000000      0.005610  ...  0.945000          0.915000\n",
              "guaracha          82.000000      0.009030  ...  0.972000          0.465000\n",
              "circuit           82.000000      0.009030  ...  0.972000          0.465000\n",
              "r&b en espanol    78.446154      0.274831  ...  0.641785          0.002416\n",
              "dutch urban       78.000000      0.170500  ...  0.774500          0.000052\n",
              "dong-yo           78.000000      0.259000  ...  0.886000          0.000000\n",
              "ritmo kombina     77.000000      0.216000  ...  0.643000          0.000104\n",
              "chinese hip hop   76.000000      0.359000  ...  0.678000          0.000005\n",
              "indie triste      76.000000      0.946000  ...  0.159000          0.000020\n",
              "uk drill          75.500000      0.193500  ...  0.455000          0.005090\n",
              "\n",
              "[10 rows x 10 columns]"
            ]
          },
          "metadata": {
            "tags": []
          },
          "execution_count": 19
        }
      ]
    },
    {
      "cell_type": "code",
      "metadata": {
        "id": "dT5VT51UBnCr",
        "colab_type": "code",
        "colab": {}
      },
      "source": [
        "#normalized the pop df using the Min-Max method of normalization\n",
        "\n",
        "norm_pop = (pop-pop.min()) / (pop.max()-pop.min())\n",
        "\n",
        "#pop df was normalized in order to constrain the different measurement of each variable to between 0 and 1"
      ],
      "execution_count": null,
      "outputs": []
    },
    {
      "cell_type": "code",
      "metadata": {
        "id": "7t7PR-XrB7m2",
        "colab_type": "code",
        "colab": {
          "base_uri": "https://localhost:8080/",
          "height": 395
        },
        "outputId": "063abe78-925e-407c-a64e-6e2b81f2a51b"
      },
      "source": [
        "norm_pop"
      ],
      "execution_count": null,
      "outputs": [
        {
          "output_type": "execute_result",
          "data": {
            "text/html": [
              "<div>\n",
              "<style scoped>\n",
              "    .dataframe tbody tr th:only-of-type {\n",
              "        vertical-align: middle;\n",
              "    }\n",
              "\n",
              "    .dataframe tbody tr th {\n",
              "        vertical-align: top;\n",
              "    }\n",
              "\n",
              "    .dataframe thead th {\n",
              "        text-align: right;\n",
              "    }\n",
              "</style>\n",
              "<table border=\"1\" class=\"dataframe\">\n",
              "  <thead>\n",
              "    <tr style=\"text-align: right;\">\n",
              "      <th></th>\n",
              "      <th>popularity</th>\n",
              "      <th>acousticness</th>\n",
              "      <th>tempo</th>\n",
              "      <th>danceability</th>\n",
              "      <th>valence</th>\n",
              "      <th>speechiness</th>\n",
              "      <th>loudness</th>\n",
              "      <th>liveness</th>\n",
              "      <th>energy</th>\n",
              "      <th>instrumentalness</th>\n",
              "    </tr>\n",
              "    <tr>\n",
              "      <th>genres</th>\n",
              "      <th></th>\n",
              "      <th></th>\n",
              "      <th></th>\n",
              "      <th></th>\n",
              "      <th></th>\n",
              "      <th></th>\n",
              "      <th></th>\n",
              "      <th></th>\n",
              "      <th></th>\n",
              "      <th></th>\n",
              "    </tr>\n",
              "  </thead>\n",
              "  <tbody>\n",
              "    <tr>\n",
              "      <th>russian dance</th>\n",
              "      <td>1.000000</td>\n",
              "      <td>0.000000</td>\n",
              "      <td>0.451413</td>\n",
              "      <td>0.441230</td>\n",
              "      <td>0.259442</td>\n",
              "      <td>0.223083</td>\n",
              "      <td>0.930161</td>\n",
              "      <td>1.000000</td>\n",
              "      <td>0.966790</td>\n",
              "      <td>1.000000</td>\n",
              "    </tr>\n",
              "    <tr>\n",
              "      <th>guaracha</th>\n",
              "      <td>0.684211</td>\n",
              "      <td>0.003637</td>\n",
              "      <td>0.475657</td>\n",
              "      <td>0.607595</td>\n",
              "      <td>0.637110</td>\n",
              "      <td>0.151433</td>\n",
              "      <td>0.861581</td>\n",
              "      <td>0.629340</td>\n",
              "      <td>1.000000</td>\n",
              "      <td>0.508197</td>\n",
              "    </tr>\n",
              "    <tr>\n",
              "      <th>circuit</th>\n",
              "      <td>0.684211</td>\n",
              "      <td>0.003637</td>\n",
              "      <td>0.475657</td>\n",
              "      <td>0.607595</td>\n",
              "      <td>0.637110</td>\n",
              "      <td>0.151433</td>\n",
              "      <td>0.861581</td>\n",
              "      <td>0.629340</td>\n",
              "      <td>1.000000</td>\n",
              "      <td>0.508197</td>\n",
              "    </tr>\n",
              "    <tr>\n",
              "      <th>r&amp;b en espanol</th>\n",
              "      <td>0.310121</td>\n",
              "      <td>0.286286</td>\n",
              "      <td>0.556888</td>\n",
              "      <td>0.607623</td>\n",
              "      <td>0.607301</td>\n",
              "      <td>0.461321</td>\n",
              "      <td>0.754495</td>\n",
              "      <td>0.159920</td>\n",
              "      <td>0.593831</td>\n",
              "      <td>0.002640</td>\n",
              "    </tr>\n",
              "    <tr>\n",
              "      <th>dutch urban</th>\n",
              "      <td>0.263158</td>\n",
              "      <td>0.175342</td>\n",
              "      <td>0.538133</td>\n",
              "      <td>0.645570</td>\n",
              "      <td>0.944171</td>\n",
              "      <td>0.234121</td>\n",
              "      <td>0.849390</td>\n",
              "      <td>0.511355</td>\n",
              "      <td>0.757073</td>\n",
              "      <td>0.000057</td>\n",
              "    </tr>\n",
              "    <tr>\n",
              "      <th>dong-yo</th>\n",
              "      <td>0.263158</td>\n",
              "      <td>0.269452</td>\n",
              "      <td>0.313514</td>\n",
              "      <td>0.759494</td>\n",
              "      <td>1.000000</td>\n",
              "      <td>0.285438</td>\n",
              "      <td>1.000000</td>\n",
              "      <td>0.000000</td>\n",
              "      <td>0.894219</td>\n",
              "      <td>0.000000</td>\n",
              "    </tr>\n",
              "    <tr>\n",
              "      <th>ritmo kombina</th>\n",
              "      <td>0.157895</td>\n",
              "      <td>0.223726</td>\n",
              "      <td>1.000000</td>\n",
              "      <td>0.647378</td>\n",
              "      <td>0.604269</td>\n",
              "      <td>0.242835</td>\n",
              "      <td>0.726386</td>\n",
              "      <td>0.064474</td>\n",
              "      <td>0.595326</td>\n",
              "      <td>0.000114</td>\n",
              "    </tr>\n",
              "    <tr>\n",
              "      <th>chinese hip hop</th>\n",
              "      <td>0.052632</td>\n",
              "      <td>0.375791</td>\n",
              "      <td>0.000000</td>\n",
              "      <td>0.000000</td>\n",
              "      <td>0.000000</td>\n",
              "      <td>0.191712</td>\n",
              "      <td>0.529296</td>\n",
              "      <td>0.290003</td>\n",
              "      <td>0.638376</td>\n",
              "      <td>0.000005</td>\n",
              "    </tr>\n",
              "    <tr>\n",
              "      <th>indie triste</th>\n",
              "      <td>0.052632</td>\n",
              "      <td>1.000000</td>\n",
              "      <td>0.187224</td>\n",
              "      <td>0.761302</td>\n",
              "      <td>0.034483</td>\n",
              "      <td>0.000000</td>\n",
              "      <td>0.000000</td>\n",
              "      <td>0.799008</td>\n",
              "      <td>0.000000</td>\n",
              "      <td>0.000022</td>\n",
              "    </tr>\n",
              "    <tr>\n",
              "      <th>uk drill</th>\n",
              "      <td>0.000000</td>\n",
              "      <td>0.199800</td>\n",
              "      <td>0.225782</td>\n",
              "      <td>1.000000</td>\n",
              "      <td>0.266831</td>\n",
              "      <td>1.000000</td>\n",
              "      <td>0.453677</td>\n",
              "      <td>0.300444</td>\n",
              "      <td>0.364084</td>\n",
              "      <td>0.005563</td>\n",
              "    </tr>\n",
              "  </tbody>\n",
              "</table>\n",
              "</div>"
            ],
            "text/plain": [
              "                 popularity  acousticness  ...    energy  instrumentalness\n",
              "genres                                     ...                            \n",
              "russian dance      1.000000      0.000000  ...  0.966790          1.000000\n",
              "guaracha           0.684211      0.003637  ...  1.000000          0.508197\n",
              "circuit            0.684211      0.003637  ...  1.000000          0.508197\n",
              "r&b en espanol     0.310121      0.286286  ...  0.593831          0.002640\n",
              "dutch urban        0.263158      0.175342  ...  0.757073          0.000057\n",
              "dong-yo            0.263158      0.269452  ...  0.894219          0.000000\n",
              "ritmo kombina      0.157895      0.223726  ...  0.595326          0.000114\n",
              "chinese hip hop    0.052632      0.375791  ...  0.638376          0.000005\n",
              "indie triste       0.052632      1.000000  ...  0.000000          0.000022\n",
              "uk drill           0.000000      0.199800  ...  0.364084          0.005563\n",
              "\n",
              "[10 rows x 10 columns]"
            ]
          },
          "metadata": {
            "tags": []
          },
          "execution_count": 22
        }
      ]
    },
    {
      "cell_type": "code",
      "metadata": {
        "id": "rB2TUXm10oXZ",
        "colab_type": "code",
        "colab": {}
      },
      "source": [
        ""
      ],
      "execution_count": null,
      "outputs": []
    },
    {
      "cell_type": "markdown",
      "metadata": {
        "id": "Et9Tmj8w0nRX",
        "colab_type": "text"
      },
      "source": [
        "***Features of Top 10 Popular Genres***"
      ]
    },
    {
      "cell_type": "code",
      "metadata": {
        "id": "JncxiW3h6PTw",
        "colab_type": "code",
        "colab": {
          "base_uri": "https://localhost:8080/",
          "height": 408
        },
        "outputId": "c1c2e4c4-6a5d-4977-f29c-3f1f46aaca50"
      },
      "source": [
        "#plotting top 10 popular genres to on heatmap\n",
        "\n",
        "plt.figure(figsize=(14, 6))\n",
        "plt.title(\"Features of Top 10 Popular Genres\")\n",
        "\n",
        "sns.heatmap(norm_pop[[\"tempo\",\"acousticness\",\t\"danceability\", \t\"valence\", \t\"speechiness\", \t\"loudness\", \t\"liveness\", \t\"energy\", \t\"instrumentalness\"]], annot=False,linewidths=.5)"
      ],
      "execution_count": null,
      "outputs": [
        {
          "output_type": "execute_result",
          "data": {
            "text/plain": [
              "<matplotlib.axes._subplots.AxesSubplot at 0x7f024e6b6128>"
            ]
          },
          "metadata": {
            "tags": []
          },
          "execution_count": 23
        },
        {
          "output_type": "display_data",
          "data": {
            "image/png": "[encoded data removed]",
            "text/plain": [
              "<Figure size 1008x432 with 2 Axes>"
            ]
          },
          "metadata": {
            "tags": []
          }
        }
      ]
    },
    {
      "cell_type": "markdown",
      "metadata": {
        "id": "zo0pRZ_17cjP",
        "colab_type": "text"
      },
      "source": [
        "***Most Popular Songs***"
      ]
    },
    {
      "cell_type": "code",
      "metadata": {
        "id": "uBdcPsPrjAKX",
        "colab_type": "code",
        "colab": {}
      },
      "source": [
        "#creating a new df from sorting the global by popularity and grouping it by year\n",
        "\n",
        "pop_year = spotify.sort_values('popularity', ascending=False).groupby('year').first()\n",
        "\n",
        "#the .first() method picks the most popular song in each year"
      ],
      "execution_count": null,
      "outputs": []
    },
    {
      "cell_type": "code",
      "metadata": {
        "id": "-at9_a4MjNY5",
        "colab_type": "code",
        "colab": {
          "base_uri": "https://localhost:8080/",
          "height": 328
        },
        "outputId": "918a552b-3ceb-4939-e28d-c380bb479c90"
      },
      "source": [
        "pop_year = pop_year.reset_index()\n",
        "pop_year.head()"
      ],
      "execution_count": null,
      "outputs": [
        {
          "output_type": "execute_result",
          "data": {
            "text/html": [
              "<div>\n",
              "<style scoped>\n",
              "    .dataframe tbody tr th:only-of-type {\n",
              "        vertical-align: middle;\n",
              "    }\n",
              "\n",
              "    .dataframe tbody tr th {\n",
              "        vertical-align: top;\n",
              "    }\n",
              "\n",
              "    .dataframe thead th {\n",
              "        text-align: right;\n",
              "    }\n",
              "</style>\n",
              "<table border=\"1\" class=\"dataframe\">\n",
              "  <thead>\n",
              "    <tr style=\"text-align: right;\">\n",
              "      <th></th>\n",
              "      <th>year</th>\n",
              "      <th>acousticness</th>\n",
              "      <th>artists</th>\n",
              "      <th>danceability</th>\n",
              "      <th>duration_ms</th>\n",
              "      <th>energy</th>\n",
              "      <th>explicit</th>\n",
              "      <th>id</th>\n",
              "      <th>instrumentalness</th>\n",
              "      <th>key</th>\n",
              "      <th>liveness</th>\n",
              "      <th>loudness</th>\n",
              "      <th>mode</th>\n",
              "      <th>name</th>\n",
              "      <th>popularity</th>\n",
              "      <th>release_date</th>\n",
              "      <th>speechiness</th>\n",
              "      <th>tempo</th>\n",
              "      <th>valence</th>\n",
              "    </tr>\n",
              "  </thead>\n",
              "  <tbody>\n",
              "    <tr>\n",
              "      <th>0</th>\n",
              "      <td>1921</td>\n",
              "      <td>0.732</td>\n",
              "      <td>['Dennis Day']</td>\n",
              "      <td>0.819</td>\n",
              "      <td>180533</td>\n",
              "      <td>0.3410</td>\n",
              "      <td>0</td>\n",
              "      <td>7xPhfUan2yNtyFG0cUWkt8</td>\n",
              "      <td>0.00000</td>\n",
              "      <td>7</td>\n",
              "      <td>0.160</td>\n",
              "      <td>-12.441</td>\n",
              "      <td>1</td>\n",
              "      <td>Clancy Lowered the Boom</td>\n",
              "      <td>8</td>\n",
              "      <td>1921</td>\n",
              "      <td>0.4150</td>\n",
              "      <td>60.936</td>\n",
              "      <td>0.963</td>\n",
              "    </tr>\n",
              "    <tr>\n",
              "      <th>1</th>\n",
              "      <td>1922</td>\n",
              "      <td>0.674</td>\n",
              "      <td>['Uli']</td>\n",
              "      <td>0.645</td>\n",
              "      <td>126903</td>\n",
              "      <td>0.4450</td>\n",
              "      <td>0</td>\n",
              "      <td>35iwgR4jXetI318WEWsa1Q</td>\n",
              "      <td>0.74400</td>\n",
              "      <td>0</td>\n",
              "      <td>0.151</td>\n",
              "      <td>-13.338</td>\n",
              "      <td>1</td>\n",
              "      <td>Carve</td>\n",
              "      <td>10</td>\n",
              "      <td>1922-02-22</td>\n",
              "      <td>0.4510</td>\n",
              "      <td>104.851</td>\n",
              "      <td>0.127</td>\n",
              "    </tr>\n",
              "    <tr>\n",
              "      <th>2</th>\n",
              "      <td>1923</td>\n",
              "      <td>0.996</td>\n",
              "      <td>['Bessie Smith']</td>\n",
              "      <td>0.614</td>\n",
              "      <td>177133</td>\n",
              "      <td>0.0423</td>\n",
              "      <td>0</td>\n",
              "      <td>2wAfHM7Whz67VFbdanhZlk</td>\n",
              "      <td>0.00293</td>\n",
              "      <td>4</td>\n",
              "      <td>0.183</td>\n",
              "      <td>-12.033</td>\n",
              "      <td>1</td>\n",
              "      <td>Nobody Knows You When You're Down and Out</td>\n",
              "      <td>45</td>\n",
              "      <td>1923</td>\n",
              "      <td>0.0535</td>\n",
              "      <td>89.822</td>\n",
              "      <td>0.211</td>\n",
              "    </tr>\n",
              "    <tr>\n",
              "      <th>3</th>\n",
              "      <td>1924</td>\n",
              "      <td>0.816</td>\n",
              "      <td>['Paul Whiteman &amp; His Orchestra', 'Bix Beiderb...</td>\n",
              "      <td>0.678</td>\n",
              "      <td>206000</td>\n",
              "      <td>0.3950</td>\n",
              "      <td>0</td>\n",
              "      <td>59UEylF5pnWCXm91Hzk2Q9</td>\n",
              "      <td>0.24000</td>\n",
              "      <td>3</td>\n",
              "      <td>0.100</td>\n",
              "      <td>-9.825</td>\n",
              "      <td>1</td>\n",
              "      <td>Mississippi Mud</td>\n",
              "      <td>13</td>\n",
              "      <td>1924</td>\n",
              "      <td>0.1330</td>\n",
              "      <td>184.446</td>\n",
              "      <td>0.832</td>\n",
              "    </tr>\n",
              "    <tr>\n",
              "      <th>4</th>\n",
              "      <td>1925</td>\n",
              "      <td>0.969</td>\n",
              "      <td>['Tommy Dorsey']</td>\n",
              "      <td>0.678</td>\n",
              "      <td>194320</td>\n",
              "      <td>0.1750</td>\n",
              "      <td>0</td>\n",
              "      <td>3XDharvL8vEyxdQwOQKmww</td>\n",
              "      <td>0.00105</td>\n",
              "      <td>3</td>\n",
              "      <td>0.177</td>\n",
              "      <td>-13.021</td>\n",
              "      <td>1</td>\n",
              "      <td>On the Sunny Side of the Street (From \"Is Ever...</td>\n",
              "      <td>39</td>\n",
              "      <td>1925</td>\n",
              "      <td>0.0301</td>\n",
              "      <td>112.941</td>\n",
              "      <td>0.580</td>\n",
              "    </tr>\n",
              "  </tbody>\n",
              "</table>\n",
              "</div>"
            ],
            "text/plain": [
              "   year  acousticness  ...    tempo  valence\n",
              "0  1921         0.732  ...   60.936    0.963\n",
              "1  1922         0.674  ...  104.851    0.127\n",
              "2  1923         0.996  ...   89.822    0.211\n",
              "3  1924         0.816  ...  184.446    0.832\n",
              "4  1925         0.969  ...  112.941    0.580\n",
              "\n",
              "[5 rows x 19 columns]"
            ]
          },
          "metadata": {
            "tags": []
          },
          "execution_count": 35
        }
      ]
    },
    {
      "cell_type": "code",
      "metadata": {
        "id": "eyTuR5Nl4406",
        "colab_type": "code",
        "colab": {}
      },
      "source": [
        "pop_year = pop_year[[\"year\", \"artists\", \"name\", \"popularity\"]]\n",
        "\n",
        "#selecting the columns we need for out visualization"
      ],
      "execution_count": null,
      "outputs": []
    },
    {
      "cell_type": "code",
      "metadata": {
        "id": "oMnLoQOx0Gov",
        "colab_type": "code",
        "colab": {}
      },
      "source": [
        "pop_year = pop_year.sort_values(\"popularity\", ascending=False)"
      ],
      "execution_count": null,
      "outputs": []
    },
    {
      "cell_type": "code",
      "metadata": {
        "id": "nX9VyOPr0I9x",
        "colab_type": "code",
        "colab": {
          "base_uri": "https://localhost:8080/",
          "height": 206
        },
        "outputId": "03a06385-1900-47fb-817b-ae5432b7cd7a"
      },
      "source": [
        "#filtering our df to pick the last 50 years after 1971\n",
        "\n",
        "pop_2000s = pop_year[pop_year[\"year\"]>1971].head(10)\n",
        "pop_2000s.head()"
      ],
      "execution_count": null,
      "outputs": [
        {
          "output_type": "execute_result",
          "data": {
            "text/html": [
              "<div>\n",
              "<style scoped>\n",
              "    .dataframe tbody tr th:only-of-type {\n",
              "        vertical-align: middle;\n",
              "    }\n",
              "\n",
              "    .dataframe tbody tr th {\n",
              "        vertical-align: top;\n",
              "    }\n",
              "\n",
              "    .dataframe thead th {\n",
              "        text-align: right;\n",
              "    }\n",
              "</style>\n",
              "<table border=\"1\" class=\"dataframe\">\n",
              "  <thead>\n",
              "    <tr style=\"text-align: right;\">\n",
              "      <th></th>\n",
              "      <th>year</th>\n",
              "      <th>artists</th>\n",
              "      <th>name</th>\n",
              "      <th>popularity</th>\n",
              "    </tr>\n",
              "  </thead>\n",
              "  <tbody>\n",
              "    <tr>\n",
              "      <th>99</th>\n",
              "      <td>2020</td>\n",
              "      <td>['The Weeknd']</td>\n",
              "      <td>Blinding Lights</td>\n",
              "      <td>100</td>\n",
              "    </tr>\n",
              "    <tr>\n",
              "      <th>98</th>\n",
              "      <td>2019</td>\n",
              "      <td>['Roddy Ricch']</td>\n",
              "      <td>The Box</td>\n",
              "      <td>97</td>\n",
              "    </tr>\n",
              "    <tr>\n",
              "      <th>97</th>\n",
              "      <td>2018</td>\n",
              "      <td>['Trevor Daniel']</td>\n",
              "      <td>Falling</td>\n",
              "      <td>93</td>\n",
              "    </tr>\n",
              "    <tr>\n",
              "      <th>95</th>\n",
              "      <td>2016</td>\n",
              "      <td>['Travis Scott']</td>\n",
              "      <td>goosebumps</td>\n",
              "      <td>92</td>\n",
              "    </tr>\n",
              "    <tr>\n",
              "      <th>94</th>\n",
              "      <td>2015</td>\n",
              "      <td>['Melanie Martinez']</td>\n",
              "      <td>Play Date</td>\n",
              "      <td>88</td>\n",
              "    </tr>\n",
              "  </tbody>\n",
              "</table>\n",
              "</div>"
            ],
            "text/plain": [
              "    year               artists             name  popularity\n",
              "99  2020        ['The Weeknd']  Blinding Lights         100\n",
              "98  2019       ['Roddy Ricch']          The Box          97\n",
              "97  2018     ['Trevor Daniel']          Falling          93\n",
              "95  2016      ['Travis Scott']       goosebumps          92\n",
              "94  2015  ['Melanie Martinez']        Play Date          88"
            ]
          },
          "metadata": {
            "tags": []
          },
          "execution_count": 46
        }
      ]
    },
    {
      "cell_type": "code",
      "metadata": {
        "id": "5IkqX2h-0KFz",
        "colab_type": "code",
        "colab": {}
      },
      "source": [
        "#filtering our df to pick the first 50 years from 1921\n",
        "\n",
        "pop_1900s = pop_year[pop_year[\"year\"]<=1971].head(10)"
      ],
      "execution_count": null,
      "outputs": []
    },
    {
      "cell_type": "code",
      "metadata": {
        "id": "pFTm1OpW3cNj",
        "colab_type": "code",
        "colab": {
          "base_uri": "https://localhost:8080/",
          "height": 206
        },
        "outputId": "88b33915-c1c5-45cb-e28a-1a12e477ead0"
      },
      "source": [
        "pop_1900s.head()"
      ],
      "execution_count": null,
      "outputs": [
        {
          "output_type": "execute_result",
          "data": {
            "text/html": [
              "<div>\n",
              "<style scoped>\n",
              "    .dataframe tbody tr th:only-of-type {\n",
              "        vertical-align: middle;\n",
              "    }\n",
              "\n",
              "    .dataframe tbody tr th {\n",
              "        vertical-align: top;\n",
              "    }\n",
              "\n",
              "    .dataframe thead th {\n",
              "        text-align: right;\n",
              "    }\n",
              "</style>\n",
              "<table border=\"1\" class=\"dataframe\">\n",
              "  <thead>\n",
              "    <tr style=\"text-align: right;\">\n",
              "      <th></th>\n",
              "      <th>year</th>\n",
              "      <th>artists</th>\n",
              "      <th>name</th>\n",
              "      <th>popularity</th>\n",
              "    </tr>\n",
              "  </thead>\n",
              "  <tbody>\n",
              "    <tr>\n",
              "      <th>48</th>\n",
              "      <td>1969</td>\n",
              "      <td>['The Beatles']</td>\n",
              "      <td>Here Comes The Sun - Remastered 2009</td>\n",
              "      <td>83</td>\n",
              "    </tr>\n",
              "    <tr>\n",
              "      <th>46</th>\n",
              "      <td>1967</td>\n",
              "      <td>['Van Morrison']</td>\n",
              "      <td>Brown Eyed Girl</td>\n",
              "      <td>80</td>\n",
              "    </tr>\n",
              "    <tr>\n",
              "      <th>44</th>\n",
              "      <td>1965</td>\n",
              "      <td>['The Temptations']</td>\n",
              "      <td>My Girl</td>\n",
              "      <td>79</td>\n",
              "    </tr>\n",
              "    <tr>\n",
              "      <th>49</th>\n",
              "      <td>1970</td>\n",
              "      <td>['The Beatles']</td>\n",
              "      <td>Let It Be - Remastered 2009</td>\n",
              "      <td>79</td>\n",
              "    </tr>\n",
              "    <tr>\n",
              "      <th>50</th>\n",
              "      <td>1971</td>\n",
              "      <td>['Elton John']</td>\n",
              "      <td>Tiny Dancer</td>\n",
              "      <td>79</td>\n",
              "    </tr>\n",
              "  </tbody>\n",
              "</table>\n",
              "</div>"
            ],
            "text/plain": [
              "    year              artists                                  name  popularity\n",
              "48  1969      ['The Beatles']  Here Comes The Sun - Remastered 2009          83\n",
              "46  1967     ['Van Morrison']                       Brown Eyed Girl          80\n",
              "44  1965  ['The Temptations']                               My Girl          79\n",
              "49  1970      ['The Beatles']           Let It Be - Remastered 2009          79\n",
              "50  1971       ['Elton John']                           Tiny Dancer          79"
            ]
          },
          "metadata": {
            "tags": []
          },
          "execution_count": 44
        }
      ]
    },
    {
      "cell_type": "markdown",
      "metadata": {
        "id": "bCdl7WgVXz_f",
        "colab_type": "text"
      },
      "source": [
        "***1921 - 1971***"
      ]
    },
    {
      "cell_type": "code",
      "metadata": {
        "id": "OIDK10WG0KXg",
        "colab_type": "code",
        "colab": {
          "base_uri": "https://localhost:8080/",
          "height": 615
        },
        "outputId": "fbdfb943-9b82-4e4e-bc5b-8eec612d4d27"
      },
      "source": [
        "plt.figure(figsize=(10,6))\n",
        "sns.set_style(\"darkgrid\")\n",
        "\n",
        "sns.barplot(x=\"name\", y=\"popularity\", data=pop_1900s, hue=\"artists\", dodge=False)\n",
        "\n",
        "plt.legend(bbox_to_anchor=(1.05, 1), loc=2, borderaxespad=0)\n",
        "plt.xticks(rotation=89)\n",
        "plt.title(\"10 Most Popular Songs Between 1921 - 1971\")"
      ],
      "execution_count": null,
      "outputs": [
        {
          "output_type": "execute_result",
          "data": {
            "text/plain": [
              "Text(0.5, 1.0, '10 Most Popular Songs Between 1921 - 1971')"
            ]
          },
          "metadata": {
            "tags": []
          },
          "execution_count": 59
        },
        {
          "output_type": "display_data",
          "data": {
            "image/png": "[encoded data removed]",
            "text/plain": [
              "<Figure size 720x432 with 1 Axes>"
            ]
          },
          "metadata": {
            "tags": []
          }
        }
      ]
    },
    {
      "cell_type": "markdown",
      "metadata": {
        "id": "ktSPVPAHX5jE",
        "colab_type": "text"
      },
      "source": [
        "***1972 - 2020***"
      ]
    },
    {
      "cell_type": "code",
      "metadata": {
        "id": "ioajVDLh0Kvf",
        "colab_type": "code",
        "colab": {
          "base_uri": "https://localhost:8080/",
          "height": 522
        },
        "outputId": "a76e724d-3ee4-4b44-cf35-4decd5b9129f"
      },
      "source": [
        "plt.figure(figsize=(10,6))\n",
        "sns.set_style(\"darkgrid\")\n",
        "\n",
        "sns.barplot(x=\"name\", y=\"popularity\", data=pop_2000s, hue=\"artists\", dodge=False)\n",
        "\n",
        "plt.legend(bbox_to_anchor=(1.05, 1), loc=2, borderaxespad=0)\n",
        "plt.xticks(rotation=89)\n",
        "plt.title(\"10 Most Popular Songs Between 1972 - 2020\")"
      ],
      "execution_count": null,
      "outputs": [
        {
          "output_type": "execute_result",
          "data": {
            "text/plain": [
              "Text(0.5, 1.0, '10 Most Popular Songs Between 1972 - 2020')"
            ]
          },
          "metadata": {
            "tags": []
          },
          "execution_count": 85
        },
        {
          "output_type": "display_data",
          "data": {
            "image/png": "[encoded data removed]",
            "text/plain": [
              "<Figure size 720x432 with 1 Axes>"
            ]
          },
          "metadata": {
            "tags": []
          }
        }
      ]
    },
    {
      "cell_type": "markdown",
      "metadata": {
        "id": "FquIJz04AsKG",
        "colab_type": "text"
      },
      "source": [
        "***No of Songs Per Year***"
      ]
    },
    {
      "cell_type": "code",
      "metadata": {
        "id": "N_EB9zUy9hku",
        "colab_type": "code",
        "colab": {}
      },
      "source": [
        "year_add = spotify.groupby(\"year\")[\"name\"].count().to_frame()"
      ],
      "execution_count": null,
      "outputs": []
    },
    {
      "cell_type": "code",
      "metadata": {
        "id": "MLIYOnbJ_EA3",
        "colab_type": "code",
        "colab": {
          "base_uri": "https://localhost:8080/",
          "height": 422
        },
        "outputId": "95bcc8aa-07f7-45d7-c96e-2d66dd18c93c"
      },
      "source": [
        "plt.figure(figsize=(10,6))\n",
        "\n",
        "sns.lineplot(x=year_add.index, y=\"name\", data=year_add)\n",
        "\n",
        "plt.title(\"No of Tracks Per Year\")"
      ],
      "execution_count": 87,
      "outputs": [
        {
          "output_type": "execute_result",
          "data": {
            "text/plain": [
              "Text(0.5, 1.0, 'No of Tracks Per Year')"
            ]
          },
          "metadata": {
            "tags": []
          },
          "execution_count": 87
        },
        {
          "output_type": "display_data",
          "data": {
            "image/png": "[encoded data removed]",
            "text/plain": [
              "<Figure size 720x432 with 1 Axes>"
            ]
          },
          "metadata": {
            "tags": []
          }
        }
      ]
    },
    {
      "cell_type": "markdown",
      "metadata": {
        "id": "fEJYkximwO99",
        "colab_type": "text"
      },
      "source": [
        "***Most Popular Artists***"
      ]
    },
    {
      "cell_type": "code",
      "metadata": {
        "id": "-3Ik-qes_j2n",
        "colab_type": "code",
        "colab": {
          "base_uri": "https://localhost:8080/",
          "height": 206
        },
        "outputId": "2330288a-307e-46e8-9d3a-cd21dfb2d7ae"
      },
      "source": [
        "artist.head()"
      ],
      "execution_count": 88,
      "outputs": [
        {
          "output_type": "execute_result",
          "data": {
            "text/html": [
              "<div>\n",
              "<style scoped>\n",
              "    .dataframe tbody tr th:only-of-type {\n",
              "        vertical-align: middle;\n",
              "    }\n",
              "\n",
              "    .dataframe tbody tr th {\n",
              "        vertical-align: top;\n",
              "    }\n",
              "\n",
              "    .dataframe thead th {\n",
              "        text-align: right;\n",
              "    }\n",
              "</style>\n",
              "<table border=\"1\" class=\"dataframe\">\n",
              "  <thead>\n",
              "    <tr style=\"text-align: right;\">\n",
              "      <th></th>\n",
              "      <th>artists</th>\n",
              "      <th>acousticness</th>\n",
              "      <th>danceability</th>\n",
              "      <th>duration_ms</th>\n",
              "      <th>energy</th>\n",
              "      <th>instrumentalness</th>\n",
              "      <th>liveness</th>\n",
              "      <th>loudness</th>\n",
              "      <th>speechiness</th>\n",
              "      <th>tempo</th>\n",
              "      <th>valence</th>\n",
              "      <th>popularity</th>\n",
              "      <th>key</th>\n",
              "      <th>mode</th>\n",
              "      <th>count</th>\n",
              "    </tr>\n",
              "  </thead>\n",
              "  <tbody>\n",
              "    <tr>\n",
              "      <th>0</th>\n",
              "      <td>Francisco Canaro</td>\n",
              "      <td>0.983072</td>\n",
              "      <td>0.654711</td>\n",
              "      <td>177776.513454</td>\n",
              "      <td>0.292622</td>\n",
              "      <td>0.490675</td>\n",
              "      <td>0.201118</td>\n",
              "      <td>-11.733373</td>\n",
              "      <td>0.111007</td>\n",
              "      <td>123.608786</td>\n",
              "      <td>0.746469</td>\n",
              "      <td>0.054257</td>\n",
              "      <td>2</td>\n",
              "      <td>1</td>\n",
              "      <td>2267</td>\n",
              "    </tr>\n",
              "    <tr>\n",
              "      <th>1</th>\n",
              "      <td>Frédéric Chopin</td>\n",
              "      <td>0.989961</td>\n",
              "      <td>0.340087</td>\n",
              "      <td>251871.948502</td>\n",
              "      <td>0.106874</td>\n",
              "      <td>0.876899</td>\n",
              "      <td>0.155677</td>\n",
              "      <td>-22.575578</td>\n",
              "      <td>0.042913</td>\n",
              "      <td>90.977772</td>\n",
              "      <td>0.203644</td>\n",
              "      <td>5.748127</td>\n",
              "      <td>1</td>\n",
              "      <td>1</td>\n",
              "      <td>1068</td>\n",
              "    </tr>\n",
              "    <tr>\n",
              "      <th>2</th>\n",
              "      <td>Ludwig van Beethoven</td>\n",
              "      <td>0.955019</td>\n",
              "      <td>0.340157</td>\n",
              "      <td>439361.331606</td>\n",
              "      <td>0.153176</td>\n",
              "      <td>0.690770</td>\n",
              "      <td>0.164078</td>\n",
              "      <td>-20.107704</td>\n",
              "      <td>0.055550</td>\n",
              "      <td>104.833536</td>\n",
              "      <td>0.260255</td>\n",
              "      <td>5.237306</td>\n",
              "      <td>0</td>\n",
              "      <td>1</td>\n",
              "      <td>965</td>\n",
              "    </tr>\n",
              "    <tr>\n",
              "      <th>3</th>\n",
              "      <td>Wolfgang Amadeus Mozart</td>\n",
              "      <td>0.962084</td>\n",
              "      <td>0.353895</td>\n",
              "      <td>327808.037306</td>\n",
              "      <td>0.138348</td>\n",
              "      <td>0.514837</td>\n",
              "      <td>0.187091</td>\n",
              "      <td>-20.214154</td>\n",
              "      <td>0.067756</td>\n",
              "      <td>108.594920</td>\n",
              "      <td>0.332855</td>\n",
              "      <td>9.624870</td>\n",
              "      <td>7</td>\n",
              "      <td>1</td>\n",
              "      <td>965</td>\n",
              "    </tr>\n",
              "    <tr>\n",
              "      <th>4</th>\n",
              "      <td>Johann Sebastian Bach</td>\n",
              "      <td>0.958405</td>\n",
              "      <td>0.354224</td>\n",
              "      <td>203461.757872</td>\n",
              "      <td>0.201932</td>\n",
              "      <td>0.744322</td>\n",
              "      <td>0.165837</td>\n",
              "      <td>-20.936518</td>\n",
              "      <td>0.048844</td>\n",
              "      <td>106.551869</td>\n",
              "      <td>0.570526</td>\n",
              "      <td>14.704669</td>\n",
              "      <td>7</td>\n",
              "      <td>1</td>\n",
              "      <td>921</td>\n",
              "    </tr>\n",
              "  </tbody>\n",
              "</table>\n",
              "</div>"
            ],
            "text/plain": [
              "                   artists  acousticness  danceability  ...  key  mode  count\n",
              "0         Francisco Canaro      0.983072      0.654711  ...    2     1   2267\n",
              "1          Frédéric Chopin      0.989961      0.340087  ...    1     1   1068\n",
              "2     Ludwig van Beethoven      0.955019      0.340157  ...    0     1    965\n",
              "3  Wolfgang Amadeus Mozart      0.962084      0.353895  ...    7     1    965\n",
              "4    Johann Sebastian Bach      0.958405      0.354224  ...    7     1    921\n",
              "\n",
              "[5 rows x 15 columns]"
            ]
          },
          "metadata": {
            "tags": []
          },
          "execution_count": 88
        }
      ]
    },
    {
      "cell_type": "code",
      "metadata": {
        "id": "NAz2lfe7Yul6",
        "colab_type": "code",
        "colab": {}
      },
      "source": [
        "artists_pop =artist.groupby(\"artists\")[\"popularity\"].mean().to_frame().sort_values(\"popularity\", ascending=False).head(10)"
      ],
      "execution_count": 11,
      "outputs": []
    },
    {
      "cell_type": "code",
      "metadata": {
        "id": "uAkY0UE-qjbw",
        "colab_type": "code",
        "colab": {
          "base_uri": "https://localhost:8080/",
          "height": 474
        },
        "outputId": "e75da1c2-a830-4b48-fbb0-9c6995e68121"
      },
      "source": [
        "plt.figure(figsize=(10,6))\n",
        "sns.set_style(\"darkgrid\")\n",
        "\n",
        "sns.barplot(x=artists_pop.index, y=\"popularity\", data=artists_pop, color=\"#437CB6\")\n",
        "\n",
        "plt.xticks(rotation=89)\n",
        "plt.title(\"Most Popular Artists\")"
      ],
      "execution_count": 24,
      "outputs": [
        {
          "output_type": "execute_result",
          "data": {
            "text/plain": [
              "Text(0.5, 1.0, 'Most Popular Artists')"
            ]
          },
          "metadata": {
            "tags": []
          },
          "execution_count": 24
        },
        {
          "output_type": "display_data",
          "data": {
            "image/png": "[encoded data removed]",
            "text/plain": [
              "<Figure size 720x432 with 1 Axes>"
            ]
          },
          "metadata": {
            "tags": []
          }
        }
      ]
    },
    {
      "cell_type": "markdown",
      "metadata": {
        "id": "kKW5y-zuwIhj",
        "colab_type": "text"
      },
      "source": [
        "***Track Explicity***"
      ]
    },
    {
      "cell_type": "code",
      "metadata": {
        "id": "J65nLQ4brP80",
        "colab_type": "code",
        "colab": {
          "base_uri": "https://localhost:8080/",
          "height": 328
        },
        "outputId": "71533e63-7679-4435-c3d9-c090a92140e2"
      },
      "source": [
        "spotify.head()"
      ],
      "execution_count": 21,
      "outputs": [
        {
          "output_type": "execute_result",
          "data": {
            "text/html": [
              "<div>\n",
              "<style scoped>\n",
              "    .dataframe tbody tr th:only-of-type {\n",
              "        vertical-align: middle;\n",
              "    }\n",
              "\n",
              "    .dataframe tbody tr th {\n",
              "        vertical-align: top;\n",
              "    }\n",
              "\n",
              "    .dataframe thead th {\n",
              "        text-align: right;\n",
              "    }\n",
              "</style>\n",
              "<table border=\"1\" class=\"dataframe\">\n",
              "  <thead>\n",
              "    <tr style=\"text-align: right;\">\n",
              "      <th></th>\n",
              "      <th>acousticness</th>\n",
              "      <th>artists</th>\n",
              "      <th>danceability</th>\n",
              "      <th>duration_ms</th>\n",
              "      <th>energy</th>\n",
              "      <th>explicit</th>\n",
              "      <th>id</th>\n",
              "      <th>instrumentalness</th>\n",
              "      <th>key</th>\n",
              "      <th>liveness</th>\n",
              "      <th>loudness</th>\n",
              "      <th>mode</th>\n",
              "      <th>name</th>\n",
              "      <th>popularity</th>\n",
              "      <th>release_date</th>\n",
              "      <th>speechiness</th>\n",
              "      <th>tempo</th>\n",
              "      <th>valence</th>\n",
              "      <th>year</th>\n",
              "    </tr>\n",
              "  </thead>\n",
              "  <tbody>\n",
              "    <tr>\n",
              "      <th>0</th>\n",
              "      <td>0.732</td>\n",
              "      <td>['Dennis Day']</td>\n",
              "      <td>0.819</td>\n",
              "      <td>180533</td>\n",
              "      <td>0.341</td>\n",
              "      <td>0</td>\n",
              "      <td>7xPhfUan2yNtyFG0cUWkt8</td>\n",
              "      <td>0.000000</td>\n",
              "      <td>7</td>\n",
              "      <td>0.160</td>\n",
              "      <td>-12.441</td>\n",
              "      <td>1</td>\n",
              "      <td>Clancy Lowered the Boom</td>\n",
              "      <td>8</td>\n",
              "      <td>1921</td>\n",
              "      <td>0.4150</td>\n",
              "      <td>60.936</td>\n",
              "      <td>0.9630</td>\n",
              "      <td>1921</td>\n",
              "    </tr>\n",
              "    <tr>\n",
              "      <th>1</th>\n",
              "      <td>0.982</td>\n",
              "      <td>['Sergei Rachmaninoff', 'James Levine', 'Berli...</td>\n",
              "      <td>0.279</td>\n",
              "      <td>831667</td>\n",
              "      <td>0.211</td>\n",
              "      <td>0</td>\n",
              "      <td>4BJqT0PrAfrxzMOxytFOIz</td>\n",
              "      <td>0.878000</td>\n",
              "      <td>10</td>\n",
              "      <td>0.665</td>\n",
              "      <td>-20.096</td>\n",
              "      <td>1</td>\n",
              "      <td>Piano Concerto No. 3 in D Minor, Op. 30: III. ...</td>\n",
              "      <td>5</td>\n",
              "      <td>1921</td>\n",
              "      <td>0.0366</td>\n",
              "      <td>80.954</td>\n",
              "      <td>0.0594</td>\n",
              "      <td>1921</td>\n",
              "    </tr>\n",
              "    <tr>\n",
              "      <th>2</th>\n",
              "      <td>0.996</td>\n",
              "      <td>['John McCormack']</td>\n",
              "      <td>0.518</td>\n",
              "      <td>159507</td>\n",
              "      <td>0.203</td>\n",
              "      <td>0</td>\n",
              "      <td>5uNZnElqOS3W4fRmRYPk4T</td>\n",
              "      <td>0.000000</td>\n",
              "      <td>0</td>\n",
              "      <td>0.115</td>\n",
              "      <td>-10.589</td>\n",
              "      <td>1</td>\n",
              "      <td>The Wearing of the Green</td>\n",
              "      <td>6</td>\n",
              "      <td>1921</td>\n",
              "      <td>0.0615</td>\n",
              "      <td>66.221</td>\n",
              "      <td>0.4060</td>\n",
              "      <td>1921</td>\n",
              "    </tr>\n",
              "    <tr>\n",
              "      <th>3</th>\n",
              "      <td>0.982</td>\n",
              "      <td>['Sergei Rachmaninoff', 'James Levine', 'Berli...</td>\n",
              "      <td>0.279</td>\n",
              "      <td>831667</td>\n",
              "      <td>0.211</td>\n",
              "      <td>0</td>\n",
              "      <td>1SCWBjhk5WmXPxhDduD3HM</td>\n",
              "      <td>0.878000</td>\n",
              "      <td>10</td>\n",
              "      <td>0.665</td>\n",
              "      <td>-20.096</td>\n",
              "      <td>1</td>\n",
              "      <td>Piano Concerto No. 3 in D Minor, Op. 30: III. ...</td>\n",
              "      <td>4</td>\n",
              "      <td>1921</td>\n",
              "      <td>0.0366</td>\n",
              "      <td>80.954</td>\n",
              "      <td>0.0594</td>\n",
              "      <td>1921</td>\n",
              "    </tr>\n",
              "    <tr>\n",
              "      <th>4</th>\n",
              "      <td>0.957</td>\n",
              "      <td>['Phil Regan']</td>\n",
              "      <td>0.418</td>\n",
              "      <td>166693</td>\n",
              "      <td>0.193</td>\n",
              "      <td>0</td>\n",
              "      <td>4d6HGyGT8e121BsdKmw9v6</td>\n",
              "      <td>0.000002</td>\n",
              "      <td>3</td>\n",
              "      <td>0.229</td>\n",
              "      <td>-10.096</td>\n",
              "      <td>1</td>\n",
              "      <td>When Irish Eyes Are Smiling</td>\n",
              "      <td>4</td>\n",
              "      <td>1921</td>\n",
              "      <td>0.0380</td>\n",
              "      <td>101.665</td>\n",
              "      <td>0.2530</td>\n",
              "      <td>1921</td>\n",
              "    </tr>\n",
              "  </tbody>\n",
              "</table>\n",
              "</div>"
            ],
            "text/plain": [
              "   acousticness  ...  year\n",
              "0         0.732  ...  1921\n",
              "1         0.982  ...  1921\n",
              "2         0.996  ...  1921\n",
              "3         0.982  ...  1921\n",
              "4         0.957  ...  1921\n",
              "\n",
              "[5 rows x 19 columns]"
            ]
          },
          "metadata": {
            "tags": []
          },
          "execution_count": 21
        }
      ]
    },
    {
      "cell_type": "code",
      "metadata": {
        "id": "Mxtwwnd9r-PL",
        "colab_type": "code",
        "colab": {
          "base_uri": "https://localhost:8080/",
          "height": 422
        },
        "outputId": "a5f8218d-f8a5-4a3c-bea4-9f068ed1d1c0"
      },
      "source": [
        "plt.figure(figsize=(10,6))\n",
        "sns.set_style(\"darkgrid\")\n",
        "\n",
        "sns.lineplot(x=\"year\", y=\"explicit\", data=spotify, err_style=None)\n",
        "\n",
        "plt.title(\"Track Explicity\")"
      ],
      "execution_count": 25,
      "outputs": [
        {
          "output_type": "execute_result",
          "data": {
            "text/plain": [
              "Text(0.5, 1.0, 'Track Explicity')"
            ]
          },
          "metadata": {
            "tags": []
          },
          "execution_count": 25
        },
        {
          "output_type": "display_data",
          "data": {
            "image/png": "[encoded data removed]",
            "text/plain": [
              "<Figure size 720x432 with 1 Axes>"
            ]
          },
          "metadata": {
            "tags": []
          }
        }
      ]
    },
    {
      "cell_type": "code",
      "metadata": {
        "id": "94VWQtITtnga",
        "colab_type": "code",
        "colab": {}
      },
      "source": [
        ""
      ],
      "execution_count": null,
      "outputs": []
    }
  ]
}